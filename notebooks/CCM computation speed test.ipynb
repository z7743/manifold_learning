{
 "cells": [
  {
   "cell_type": "code",
   "execution_count": 41,
   "metadata": {},
   "outputs": [],
   "source": [
    "from manifold_learning import CCM\n",
    "from manifold_learning.utils import utils\n",
    "from manifold_learning.data.data_loader import get_truncated_lorenz_rand\n",
    "import numpy as np\n",
    "import matplotlib.pyplot as plt\n",
    "import time\n",
    "import torch"
   ]
  },
  {
   "cell_type": "markdown",
   "metadata": {},
   "source": [
    "### Time statististics"
   ]
  },
  {
   "cell_type": "code",
   "execution_count": 96,
   "metadata": {},
   "outputs": [],
   "source": [
    "\n",
    "def prepare_embeddings(N_sys):\n",
    "    X = np.concatenate([get_truncated_lorenz_rand(280, n_steps=30000)[:,[0]].T for _ in range(N_sys)])\n",
    "    X_emb = [utils.get_td_embedding_np(x[:, None], 5, 10, return_pred=False)[:, :, 0] for x in X]\n",
    "    Y_emb = [utils.get_td_embedding_np(x[:, None], 5, 10, return_pred=False)[:, [0], 0] for x in X]\n",
    "    return X_emb, Y_emb\n",
    "\n",
    "def time_ccm_computation(X_emb, Y_emb, trials=15, device=\"cpu\"):\n",
    "    \n",
    "    torch.cuda.empty_cache()\n",
    "    ccm = CCM.FastCCM(device=device) \n",
    "\n",
    "    start_time = time.time()\n",
    "    for _ in range(trials):\n",
    "        ccm.compute(X_emb, Y_emb, 1000, 250, 30, 10, 0)\n",
    "    total_time =  time.time() - start_time\n",
    "    \n",
    "    avg_time = total_time / trials * 1000\n",
    "    time_per_pair = avg_time / len(X_emb) / len(Y_emb)\n",
    "    \n",
    "    return avg_time, time_per_pair\n",
    "\n",
    "\n"
   ]
  },
  {
   "cell_type": "code",
   "execution_count": 105,
   "metadata": {},
   "outputs": [],
   "source": [
    "system_counts = [1, 2, 5, 10, 15, 20, 30, 50, 100, 150, 200, 300]"
   ]
  },
  {
   "cell_type": "code",
   "execution_count": 106,
   "metadata": {},
   "outputs": [],
   "source": [
    "X_emb, Y_emb = prepare_embeddings(max(system_counts))"
   ]
  },
  {
   "cell_type": "code",
   "execution_count": 107,
   "metadata": {},
   "outputs": [
    {
     "name": "stdout",
     "output_type": "stream",
     "text": [
      "N_sys=1: Avg time = 4.844173ms, Time per pair = 4.844173ms\n",
      "N_sys=2: Avg time = 5.002149ms, Time per pair = 1.250537ms\n",
      "N_sys=5: Avg time = 7.156261ms, Time per pair = 0.286250ms\n",
      "N_sys=10: Avg time = 9.332784ms, Time per pair = 0.093328ms\n",
      "N_sys=15: Avg time = 12.692102ms, Time per pair = 0.056409ms\n",
      "N_sys=20: Avg time = 15.341632ms, Time per pair = 0.038354ms\n",
      "N_sys=30: Avg time = 21.855529ms, Time per pair = 0.024284ms\n",
      "N_sys=50: Avg time = 38.940128ms, Time per pair = 0.015576ms\n",
      "N_sys=100: Avg time = 99.732272ms, Time per pair = 0.009973ms\n",
      "N_sys=150: Avg time = 185.635837ms, Time per pair = 0.008250ms\n",
      "N_sys=200: Avg time = 291.347392ms, Time per pair = 0.007284ms\n",
      "N_sys=300: Avg time = 587.164625ms, Time per pair = 0.006524ms\n"
     ]
    }
   ],
   "source": [
    "\n",
    "results_cpu = []\n",
    "for count in system_counts:\n",
    "    avg_time, time_per_pair = time_ccm_computation(X_emb[:count], Y_emb[:count],device=\"cpu\")\n",
    "    results_cpu += [time_per_pair]\n",
    "    print(f\"N_sys={count}: Avg time = {avg_time:.6f}ms, Time per pair = {time_per_pair:.6f}ms\")"
   ]
  },
  {
   "cell_type": "code",
   "execution_count": 108,
   "metadata": {},
   "outputs": [
    {
     "name": "stdout",
     "output_type": "stream",
     "text": [
      "N_sys=1: Avg time = 2.513774ms, Time per pair = 2.513774ms\n",
      "N_sys=2: Avg time = 2.493048ms, Time per pair = 0.623262ms\n",
      "N_sys=5: Avg time = 3.490305ms, Time per pair = 0.139612ms\n",
      "N_sys=10: Avg time = 6.691202ms, Time per pair = 0.066912ms\n",
      "N_sys=15: Avg time = 9.283940ms, Time per pair = 0.041262ms\n",
      "N_sys=20: Avg time = 13.573170ms, Time per pair = 0.033933ms\n",
      "N_sys=30: Avg time = 19.946321ms, Time per pair = 0.022163ms\n",
      "N_sys=50: Avg time = 33.517281ms, Time per pair = 0.013407ms\n",
      "N_sys=100: Avg time = 66.409095ms, Time per pair = 0.006641ms\n",
      "N_sys=150: Avg time = 101.173369ms, Time per pair = 0.004497ms\n",
      "N_sys=200: Avg time = 167.932510ms, Time per pair = 0.004198ms\n",
      "N_sys=300: Avg time = 235.931317ms, Time per pair = 0.002621ms\n"
     ]
    }
   ],
   "source": [
    "\n",
    "results_cuda = []\n",
    "for count in system_counts:\n",
    "    avg_time, time_per_pair = time_ccm_computation(X_emb[:count], Y_emb[:count],device=\"cuda\")\n",
    "    results_cuda += [time_per_pair]\n",
    "    print(f\"N_sys={count}: Avg time = {avg_time:.6f}ms, Time per pair = {time_per_pair:.6f}ms\")"
   ]
  },
  {
   "cell_type": "code",
   "execution_count": 113,
   "metadata": {},
   "outputs": [
    {
     "data": {
      "text/plain": [
       "<matplotlib.legend.Legend at 0x761a58ae8a40>"
      ]
     },
     "execution_count": 113,
     "metadata": {},
     "output_type": "execute_result"
    },
    {
     "data": {
      "image/png": "[encoded data removed]",
      "text/plain": [
       "<Figure size 640x480 with 1 Axes>"
      ]
     },
     "metadata": {},
     "output_type": "display_data"
    }
   ],
   "source": [
    "plt.plot(system_counts, results_cpu, label=\"cpu\")\n",
    "plt.plot(system_counts, results_cuda, label=\"gpu\")\n",
    "plt.yscale(\"log\")\n",
    "plt.xlabel(\"Matrix size\")\n",
    "plt.ylabel(\"Per pair computation time (ms)\")\n",
    "plt.legend()"
   ]
  },
  {
   "cell_type": "code",
   "execution_count": 119,
   "metadata": {},
   "outputs": [
    {
     "data": {
      "text/plain": [
       "'NVIDIA RTX 3500 Ada Generation Laptop GPU'"
      ]
     },
     "execution_count": 119,
     "metadata": {},
     "output_type": "execute_result"
    }
   ],
   "source": [
    "torch.cuda.get_device_name()"
   ]
  }
 ],
 "metadata": {
  "kernelspec": {
   "display_name": "base",
   "language": "python",
   "name": "python3"
  },
  "language_info": {
   "codemirror_mode": {
    "name": "ipython",
    "version": 3
   },
   "file_extension": ".py",
   "mimetype": "text/x-python",
   "name": "python",
   "nbconvert_exporter": "python",
   "pygments_lexer": "ipython3",
   "version": "3.12.1"
  }
 },
 "nbformat": 4,
 "nbformat_minor": 2
}
