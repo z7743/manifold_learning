{
 "cells": [
  {
   "cell_type": "code",
   "execution_count": 1,
   "metadata": {},
   "outputs": [],
   "source": [
    "from manifold_learning import CCM\n",
    "from manifold_learning.utils import utils\n",
    "from manifold_learning.data.data_loader import get_truncated_lorenz_rand\n",
    "import numpy as np\n",
    "import matplotlib.pyplot as plt\n",
    "import time\n",
    "import torch"
   ]
  },
  {
   "cell_type": "markdown",
   "metadata": {},
   "source": [
    "### Time statistics"
   ]
  },
  {
   "cell_type": "code",
   "execution_count": 2,
   "metadata": {},
   "outputs": [],
   "source": [
    "\n",
    "def prepare_embeddings(N_sys):\n",
    "    X = np.concatenate([get_truncated_lorenz_rand(280, n_steps=30000)[:,[0]].T for _ in range(N_sys)])\n",
    "    X_emb = [utils.get_td_embedding_np(x[:, None], 5, 10, return_pred=False)[:, :, 0] for x in X]\n",
    "    Y_emb = [utils.get_td_embedding_np(x[:, None], 5, 10, return_pred=False)[:, [0], 0] for x in X]\n",
    "    return X_emb, Y_emb\n",
    "\n",
    "def time_ccm_computation(X_emb, Y_emb, trials=15, device=\"cpu\"):\n",
    "    \n",
    "    torch.cuda.empty_cache()\n",
    "    ccm = CCM.FastCCM(device=device) \n",
    "\n",
    "    start_time = time.time()\n",
    "    for _ in range(trials):\n",
    "        ccm.compute(X_emb, Y_emb, 1000, 250, 30, 10, 0)\n",
    "    total_time =  time.time() - start_time\n",
    "    \n",
    "    avg_time = total_time / trials * 1000\n",
    "    time_per_pair = avg_time / len(X_emb) / len(Y_emb)\n",
    "    \n",
    "    return avg_time, time_per_pair\n"
   ]
  },
  {
   "cell_type": "code",
   "execution_count": 3,
   "metadata": {},
   "outputs": [],
   "source": [
    "timeseries_counts = [1, 2, 5, 10, 15, 20, 30, 50, 100, 150, 200, 300]"
   ]
  },
  {
   "cell_type": "code",
   "execution_count": 4,
   "metadata": {},
   "outputs": [],
   "source": [
    "X_emb, Y_emb = prepare_embeddings(max(timeseries_counts))"
   ]
  },
  {
   "cell_type": "code",
   "execution_count": 6,
   "metadata": {},
   "outputs": [
    {
     "name": "stdout",
     "output_type": "stream",
     "text": [
      "N_sys=1: Avg time = 4.851866ms, Time per pair = 4.851866ms\n",
      "N_sys=2: Avg time = 6.741460ms, Time per pair = 1.685365ms\n",
      "N_sys=5: Avg time = 9.135755ms, Time per pair = 0.365430ms\n",
      "N_sys=10: Avg time = 12.938579ms, Time per pair = 0.129386ms\n",
      "N_sys=15: Avg time = 16.984399ms, Time per pair = 0.075486ms\n",
      "N_sys=20: Avg time = 21.341880ms, Time per pair = 0.053355ms\n",
      "N_sys=30: Avg time = 28.710286ms, Time per pair = 0.031900ms\n",
      "N_sys=50: Avg time = 36.105506ms, Time per pair = 0.014442ms\n",
      "N_sys=100: Avg time = 84.154781ms, Time per pair = 0.008415ms\n",
      "N_sys=150: Avg time = 154.139010ms, Time per pair = 0.006851ms\n",
      "N_sys=200: Avg time = 242.391952ms, Time per pair = 0.006060ms\n",
      "N_sys=300: Avg time = 452.910852ms, Time per pair = 0.005032ms\n"
     ]
    }
   ],
   "source": [
    "\n",
    "results_cpu = []\n",
    "for count in timeseries_counts:\n",
    "    avg_time, time_per_pair = time_ccm_computation(X_emb[:count], Y_emb[:count],device=\"cpu\")\n",
    "    results_cpu += [time_per_pair]\n",
    "    print(f\"N_sys={count}: Avg time = {avg_time:.6f}ms, Time per pair = {time_per_pair:.6f}ms\")"
   ]
  },
  {
   "cell_type": "code",
   "execution_count": 8,
   "metadata": {},
   "outputs": [
    {
     "name": "stdout",
     "output_type": "stream",
     "text": [
      "N_sys=1: Avg time = 3.655005ms, Time per pair = 3.655005ms\n",
      "N_sys=2: Avg time = 2.872880ms, Time per pair = 0.718220ms\n",
      "N_sys=5: Avg time = 5.187575ms, Time per pair = 0.207503ms\n",
      "N_sys=10: Avg time = 9.504906ms, Time per pair = 0.095049ms\n",
      "N_sys=15: Avg time = 13.628928ms, Time per pair = 0.060573ms\n",
      "N_sys=20: Avg time = 17.458026ms, Time per pair = 0.043645ms\n",
      "N_sys=30: Avg time = 23.701541ms, Time per pair = 0.026335ms\n",
      "N_sys=50: Avg time = 29.868571ms, Time per pair = 0.011947ms\n",
      "N_sys=100: Avg time = 60.292021ms, Time per pair = 0.006029ms\n",
      "N_sys=150: Avg time = 108.297237ms, Time per pair = 0.004813ms\n",
      "N_sys=200: Avg time = 129.082203ms, Time per pair = 0.003227ms\n",
      "N_sys=300: Avg time = 198.923763ms, Time per pair = 0.002210ms\n"
     ]
    }
   ],
   "source": [
    "\n",
    "results_cuda = []\n",
    "for count in timeseries_counts:\n",
    "    avg_time, time_per_pair = time_ccm_computation(X_emb[:count], Y_emb[:count],device=\"cuda\")\n",
    "    results_cuda += [time_per_pair]\n",
    "    print(f\"N_sys={count}: Avg time = {avg_time:.6f}ms, Time per pair = {time_per_pair:.6f}ms\")"
   ]
  },
  {
   "cell_type": "code",
   "execution_count": 12,
   "metadata": {},
   "outputs": [
    {
     "data": {
      "text/plain": [
       "<matplotlib.legend.Legend at 0x737afe5c2630>"
      ]
     },
     "execution_count": 12,
     "metadata": {},
     "output_type": "execute_result"
    },
    {
     "data": {
      "image/png": "[encoded data removed]",
      "text/plain": [
       "<Figure size 640x480 with 1 Axes>"
      ]
     },
     "metadata": {},
     "output_type": "display_data"
    }
   ],
   "source": [
    "plt.plot(timeseries_counts, results_cpu, label=\"cpu\")\n",
    "plt.plot(timeseries_counts, results_cuda, label=\"gpu\")\n",
    "plt.yscale(\"log\")\n",
    "plt.xlabel(\"Matrix size\")\n",
    "plt.ylabel(\"Per pair computation time (ms)\")\n",
    "plt.legend()"
   ]
  },
  {
   "cell_type": "code",
   "execution_count": 10,
   "metadata": {},
   "outputs": [
    {
     "data": {
      "text/plain": [
       "'NVIDIA RTX 3500 Ada Generation Laptop GPU'"
      ]
     },
     "execution_count": 10,
     "metadata": {},
     "output_type": "execute_result"
    }
   ],
   "source": [
    "torch.cuda.get_device_name()"
   ]
  }
 ],
 "metadata": {
  "kernelspec": {
   "display_name": "base",
   "language": "python",
   "name": "python3"
  },
  "language_info": {
   "codemirror_mode": {
    "name": "ipython",
    "version": 3
   },
   "file_extension": ".py",
   "mimetype": "text/x-python",
   "name": "python",
   "nbconvert_exporter": "python",
   "pygments_lexer": "ipython3",
   "version": "3.12.1"
  }
 },
 "nbformat": 4,
 "nbformat_minor": 2
}
