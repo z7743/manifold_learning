{
 "cells": [
  {
   "cell_type": "code",
   "execution_count": 103,
   "metadata": {},
   "outputs": [
    {
     "data": {
      "text/plain": [
       "<module 'manifold_learning.utils.utils' from '/home/iaroslav/Documents/Python projects/manifold_learning/src/manifold_learning/utils/utils.py'>"
      ]
     },
     "execution_count": 103,
     "metadata": {},
     "output_type": "execute_result"
    }
   ],
   "source": [
    "from manifold_learning import CCM\n",
    "from manifold_learning.utils import utils\n",
    "import importlib\n",
    "import numpy as np\n",
    "import matplotlib.pyplot as plt\n",
    "from sklearn.preprocessing import StandardScaler\n",
    "from sklearn.decomposition import PCA\n",
    "from scipy.integrate import solve_ivp\n",
    "importlib.reload(CCM)\n",
    "importlib.reload(utils)"
   ]
  },
  {
   "cell_type": "code",
   "execution_count": 2,
   "metadata": {},
   "outputs": [],
   "source": [
    "def lorenz(t, state, sigma, beta, rho):\n",
    "    x, y, z = state\n",
    "    dxdt = sigma * (y - x)\n",
    "    dydt = x * (rho - z) - y\n",
    "    dzdt = x * y - beta * z\n",
    "    return [dxdt, dydt, dzdt]"
   ]
  },
  {
   "cell_type": "code",
   "execution_count": 3,
   "metadata": {},
   "outputs": [],
   "source": [
    "def get_lorenz_rand(tmax = 140, n_steps = 10000, sigma=10, beta=8/3, rho=28):\n",
    "    initial_state = np.random.normal(size=(3))\n",
    "\n",
    "    trunc = int(n_steps/tmax * 40) # Number of steps to get independence from initial conditions\n",
    "    t_eval = np.linspace(0, tmax, trunc + n_steps)\n",
    "\n",
    "    solution = solve_ivp(lorenz, (0, tmax), initial_state, args=(sigma, beta, rho), t_eval=t_eval).y.T[trunc:]\n",
    "    return solution"
   ]
  },
  {
   "cell_type": "code",
   "execution_count": 65,
   "metadata": {},
   "outputs": [],
   "source": [
    "X_emb = np.transpose(utils.get_td_embedding_np(get_lorenz_rand(280,n_steps=30000),4,20,return_pred=False),axes=(2,0,1))\n",
    "t = np.repeat(np.arange(X_emb.shape[1])[None],X_emb.shape[0],axis=0)"
   ]
  },
  {
   "cell_type": "code",
   "execution_count": 109,
   "metadata": {},
   "outputs": [],
   "source": [
    "ccm = CCM.CCM(device=\"cpu\")"
   ]
  },
  {
   "cell_type": "code",
   "execution_count": 67,
   "metadata": {},
   "outputs": [
    {
     "data": {
      "text/plain": [
       "tensor(3)"
      ]
     },
     "execution_count": 67,
     "metadata": {},
     "output_type": "execute_result"
    }
   ],
   "source": [
    "import torch\n",
    "torch.tensor([1,2,3]).max()"
   ]
  },
  {
   "cell_type": "code",
   "execution_count": 75,
   "metadata": {},
   "outputs": [
    {
     "data": {
      "text/plain": [
       "tensor(0)"
      ]
     },
     "execution_count": 75,
     "metadata": {},
     "output_type": "execute_result"
    }
   ],
   "source": [
    "torch.tensor(0.1)"
   ]
  },
  {
   "cell_type": "code",
   "execution_count": 108,
   "metadata": {},
   "outputs": [
    {
     "ename": "AttributeError",
     "evalue": "'CCM' object has no attribute 'Y'",
     "output_type": "error",
     "traceback": [
      "\u001b[0;31m---------------------------------------------------------------------------\u001b[0m",
      "\u001b[0;31mAttributeError\u001b[0m                            Traceback (most recent call last)",
      "Cell \u001b[0;32mIn[108], line 1\u001b[0m\n\u001b[0;32m----> 1\u001b[0m plt\u001b[38;5;241m.\u001b[39mscatter(ccm\u001b[38;5;241m.\u001b[39mY[\u001b[38;5;241m0\u001b[39m,:,\u001b[38;5;241m0\u001b[39m], ccm\u001b[38;5;241m.\u001b[39mX[\u001b[38;5;241m0\u001b[39m,:,\u001b[38;5;241m0\u001b[39m])\n",
      "\u001b[0;31mAttributeError\u001b[0m: 'CCM' object has no attribute 'Y'"
     ]
    }
   ],
   "source": [
    "plt.plot(ccm.Y[0,:,0], ccm.X[0,:,0]"
   ]
  },
  {
   "cell_type": "code",
   "execution_count": 35,
   "metadata": {},
   "outputs": [
    {
     "data": {
      "text/plain": [
       "tensor([[[  0.8672,   4.5700,  17.6103,   3.9325],\n",
       "         [ 14.2830,   2.6137,  -0.6690,  -2.4911],\n",
       "         [  6.4583,  -1.8501,  -5.3313, -12.3290],\n",
       "         ...,\n",
       "         [ -8.3579, -13.6933,  -4.4270,  -1.5724],\n",
       "         [ -6.6540, -15.3499,  -4.6570,   0.4285],\n",
       "         [-12.3029,  -3.4902,  -2.0164,  -5.0398]],\n",
       "\n",
       "        [[  0.8233,   3.4183,  12.2097,  14.8148],\n",
       "         [ 10.8632,  -1.2728,  -0.5419,  -1.1055],\n",
       "         [-13.4267,   4.7607,   5.5664,  12.4047],\n",
       "         ...,\n",
       "         [ -0.8203,  -2.5715, -11.0371, -18.3112],\n",
       "         [ -1.3440,  -4.6636, -14.5402,  -9.7122],\n",
       "         [ -0.3516,   0.4681,   2.3229,   9.2623]],\n",
       "\n",
       "        [[  9.8668,  12.9604,  42.1416,  27.7385],\n",
       "         [ 23.4032,  15.1135,   9.7934,   6.6519],\n",
       "         [ 26.2867,  36.3839,  22.6894,  15.8715],\n",
       "         ...,\n",
       "         [ 15.4996,  32.5277,  31.9754,  20.6461],\n",
       "         [ 16.4478,  11.8367,  21.8171,  38.3872],\n",
       "         [ 14.9868,   9.7866,   7.9717,  29.9582]]])"
      ]
     },
     "execution_count": 35,
     "metadata": {},
     "output_type": "execute_result"
    }
   ],
   "source": [
    "ccm.X"
   ]
  }
 ],
 "metadata": {
  "kernelspec": {
   "display_name": "base",
   "language": "python",
   "name": "python3"
  },
  "language_info": {
   "codemirror_mode": {
    "name": "ipython",
    "version": 3
   },
   "file_extension": ".py",
   "mimetype": "text/x-python",
   "name": "python",
   "nbconvert_exporter": "python",
   "pygments_lexer": "ipython3",
   "version": "3.12.1"
  }
 },
 "nbformat": 4,
 "nbformat_minor": 2
}
