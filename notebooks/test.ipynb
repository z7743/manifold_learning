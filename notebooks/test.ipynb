{
 "cells": [
  {
   "cell_type": "code",
   "execution_count": 2,
   "metadata": {},
   "outputs": [
    {
     "data": {
      "text/plain": [
       "<module 'manifold_learning.IMD' from '/home/iaroslav/Documents/Python projects/manifold_learning/src/manifold_learning/IMD.py'>"
      ]
     },
     "execution_count": 2,
     "metadata": {},
     "output_type": "execute_result"
    }
   ],
   "source": [
    "from manifold_learning.data.data_loader import load_csv_dataset, load_ld2011_2014_dataset, load_traffic_dataset\n",
    "from manifold_learning import IMD\n",
    "import importlib\n",
    "import numpy as np\n",
    "import matplotlib.pyplot as plt\n",
    "import pandas as pd\n",
    "from sklearn.decomposition import PCA\n",
    "from scipy import io\n",
    "importlib.reload(IMD)"
   ]
  },
  {
   "cell_type": "code",
   "execution_count": 15,
   "metadata": {},
   "outputs": [
    {
     "data": {
      "text/plain": [
       "(2640, 20102)"
      ]
     },
     "execution_count": 15,
     "metadata": {},
     "output_type": "execute_result"
    }
   ],
   "source": [
    "io.loadmat(\"../src/manifold_learning/data/datasets/dataVKDecay2DGalphaStatic.mat\")[\"xData\"][1][1].shape"
   ]
  },
  {
   "cell_type": "code",
   "execution_count": 17,
   "metadata": {},
   "outputs": [
    {
     "data": {
      "text/plain": [
       "20102"
      ]
     },
     "execution_count": 17,
     "metadata": {},
     "output_type": "execute_result"
    }
   ],
   "source": [
    "20102"
   ]
  },
  {
   "cell_type": "code",
   "execution_count": 2,
   "metadata": {},
   "outputs": [],
   "source": [
    "import torch\n",
    "torch.cuda.empty_cache()"
   ]
  },
  {
   "cell_type": "code",
   "execution_count": 34,
   "metadata": {},
   "outputs": [],
   "source": [
    "X = load_csv_dataset(\"Jan1023_1_fr_ma2sec_sr30.csv\").to_numpy()[:,1:]"
   ]
  },
  {
   "cell_type": "code",
   "execution_count": 38,
   "metadata": {},
   "outputs": [],
   "source": [
    "X = load_ld2011_2014_dataset().to_numpy()[:,1:].astype(np.float32)"
   ]
  },
  {
   "cell_type": "code",
   "execution_count": 2,
   "metadata": {},
   "outputs": [],
   "source": [
    "X = load_traffic_dataset()\n",
    "X = X.to_numpy()[:,1:].astype(np.float32).T\n",
    "X[np.isnan(X)] = 0\n",
    "X = np.log(X+1)\n",
    "X = X[:,X.mean(axis=0) != 0]\n",
    "X = (X-X.mean(axis=0))/X.std(axis=0)"
   ]
  },
  {
   "cell_type": "code",
   "execution_count": 144,
   "metadata": {},
   "outputs": [],
   "source": [
    "X = load_traffic_dataset()\n",
    "X = X[X.columns[1:]]\n",
    "\n",
    "df = X.T\n",
    "\n",
    "# Interpolate missing values\n",
    "df_interpolated = df.interpolate(method='linear', limit_direction='forward', axis=0)\n",
    "\n",
    "# Fill any remaining missing values with zeros\n",
    "df_filled = df_interpolated.fillna(0)\n",
    "X = df_filled.to_numpy().astype(np.float32)\n",
    "\n",
    "\n",
    "X = np.log(X+1)\n",
    "X_mean = X.mean(axis=0)\n",
    "X_std = X.std(axis=0)\n",
    "X = X[:,X.mean(axis=0) != 0]\n",
    "X = (X-X.mean(axis=0))/X.std(axis=0)\n",
    "\n",
    "\n",
    "#pca = PCA(803,whiten=True)\n",
    "#X = pca.fit_transform(X)"
   ]
  },
  {
   "cell_type": "code",
   "execution_count": 111,
   "metadata": {},
   "outputs": [],
   "source": [
    "X = np.concatenate([X[3:],X[2:-1],X[1:-2],X[:-3]],axis=1)"
   ]
  },
  {
   "cell_type": "code",
   "execution_count": 148,
   "metadata": {},
   "outputs": [],
   "source": [
    "trainer = IMD.IMD_nD(X.shape[1], embed_dim=12, n_components=15,subtract_corr=False, learning_rate=0.001, device=\"cuda\",optimizer=\"Adam\")"
   ]
  },
  {
   "cell_type": "code",
   "execution_count": 149,
   "metadata": {
    "scrolled": true
   },
   "outputs": [
    {
     "name": "stdout",
     "output_type": "stream",
     "text": [
      "Epoch 1/1000, Loss: 1.0434\n",
      "Epoch 2/1000, Loss: 0.7321\n",
      "Epoch 3/1000, Loss: 0.6794\n",
      "Epoch 4/1000, Loss: 0.6514\n",
      "Epoch 5/1000, Loss: 0.6320\n",
      "Epoch 6/1000, Loss: 0.6191\n",
      "Epoch 7/1000, Loss: 0.6090\n",
      "Epoch 8/1000, Loss: 0.5995\n",
      "Epoch 9/1000, Loss: 0.5920\n",
      "Epoch 10/1000, Loss: 0.5846\n",
      "Epoch 11/1000, Loss: 0.5766\n",
      "Epoch 12/1000, Loss: 0.5733\n",
      "Epoch 13/1000, Loss: 0.5695\n",
      "Epoch 14/1000, Loss: 0.5633\n",
      "Epoch 15/1000, Loss: 0.5606\n",
      "Epoch 16/1000, Loss: 0.5551\n",
      "Epoch 17/1000, Loss: 0.5508\n",
      "Epoch 18/1000, Loss: 0.5446\n",
      "Epoch 19/1000, Loss: 0.5426\n",
      "Epoch 20/1000, Loss: 0.5378\n",
      "Epoch 21/1000, Loss: 0.5340\n",
      "Epoch 22/1000, Loss: 0.5294\n",
      "Epoch 23/1000, Loss: 0.5250\n",
      "Epoch 24/1000, Loss: 0.5210\n",
      "Epoch 25/1000, Loss: 0.5208\n",
      "Epoch 26/1000, Loss: 0.5144\n",
      "Epoch 27/1000, Loss: 0.5104\n",
      "Epoch 28/1000, Loss: 0.5114\n",
      "Epoch 29/1000, Loss: 0.5056\n",
      "Epoch 30/1000, Loss: 0.5038\n",
      "Epoch 31/1000, Loss: 0.4994\n",
      "Epoch 32/1000, Loss: 0.4992\n",
      "Epoch 33/1000, Loss: 0.4933\n",
      "Epoch 34/1000, Loss: 0.4909\n",
      "Epoch 35/1000, Loss: 0.4892\n",
      "Epoch 36/1000, Loss: 0.4887\n",
      "Epoch 37/1000, Loss: 0.4859\n",
      "Epoch 38/1000, Loss: 0.4829\n",
      "Epoch 39/1000, Loss: 0.4796\n",
      "Epoch 40/1000, Loss: 0.4793\n",
      "Epoch 41/1000, Loss: 0.4747\n",
      "Epoch 42/1000, Loss: 0.4713\n",
      "Epoch 43/1000, Loss: 0.4696\n",
      "Epoch 44/1000, Loss: 0.4685\n",
      "Epoch 45/1000, Loss: 0.4660\n",
      "Epoch 46/1000, Loss: 0.4629\n",
      "Epoch 47/1000, Loss: 0.4621\n",
      "Epoch 48/1000, Loss: 0.4581\n",
      "Epoch 49/1000, Loss: 0.4561\n",
      "Epoch 50/1000, Loss: 0.4571\n",
      "Epoch 51/1000, Loss: 0.4528\n",
      "Epoch 52/1000, Loss: 0.4510\n",
      "Epoch 53/1000, Loss: 0.4497\n",
      "Epoch 54/1000, Loss: 0.4472\n",
      "Epoch 55/1000, Loss: 0.4438\n",
      "Epoch 56/1000, Loss: 0.4442\n",
      "Epoch 57/1000, Loss: 0.4419\n",
      "Epoch 58/1000, Loss: 0.4419\n",
      "Epoch 59/1000, Loss: 0.4401\n",
      "Epoch 60/1000, Loss: 0.4345\n",
      "Epoch 61/1000, Loss: 0.4359\n",
      "Epoch 62/1000, Loss: 0.4308\n",
      "Epoch 63/1000, Loss: 0.4347\n",
      "Epoch 64/1000, Loss: 0.4307\n",
      "Epoch 65/1000, Loss: 0.4302\n",
      "Epoch 66/1000, Loss: 0.4287\n",
      "Epoch 67/1000, Loss: 0.4307\n",
      "Epoch 68/1000, Loss: 0.4259\n",
      "Epoch 69/1000, Loss: 0.4264\n",
      "Epoch 70/1000, Loss: 0.4262\n",
      "Epoch 71/1000, Loss: 0.4228\n",
      "Epoch 72/1000, Loss: 0.4228\n",
      "Epoch 73/1000, Loss: 0.4270\n",
      "Epoch 74/1000, Loss: 0.4217\n",
      "Epoch 75/1000, Loss: 0.4207\n",
      "Epoch 76/1000, Loss: 0.4201\n",
      "Epoch 77/1000, Loss: 0.4181\n",
      "Epoch 78/1000, Loss: 0.4197\n",
      "Epoch 79/1000, Loss: 0.4183\n",
      "Epoch 80/1000, Loss: 0.4171\n",
      "Epoch 81/1000, Loss: 0.4165\n",
      "Epoch 82/1000, Loss: 0.4154\n",
      "Epoch 83/1000, Loss: 0.4146\n",
      "Epoch 84/1000, Loss: 0.4142\n",
      "Epoch 85/1000, Loss: 0.4138\n",
      "Epoch 86/1000, Loss: 0.4112\n",
      "Epoch 87/1000, Loss: 0.4115\n",
      "Epoch 88/1000, Loss: 0.4088\n",
      "Epoch 89/1000, Loss: 0.4106\n",
      "Epoch 90/1000, Loss: 0.4099\n",
      "Epoch 91/1000, Loss: 0.4129\n",
      "Epoch 92/1000, Loss: 0.4073\n",
      "Epoch 93/1000, Loss: 0.4055\n",
      "Epoch 94/1000, Loss: 0.4053\n",
      "Epoch 95/1000, Loss: 0.4043\n",
      "Epoch 96/1000, Loss: 0.4057\n",
      "Epoch 97/1000, Loss: 0.4049\n",
      "Epoch 98/1000, Loss: 0.4034\n",
      "Epoch 99/1000, Loss: 0.4040\n",
      "Epoch 100/1000, Loss: 0.4005\n",
      "Epoch 101/1000, Loss: 0.4045\n",
      "Epoch 102/1000, Loss: 0.3990\n",
      "Epoch 103/1000, Loss: 0.4001\n",
      "Epoch 104/1000, Loss: 0.3991\n",
      "Epoch 105/1000, Loss: 0.3989\n",
      "Epoch 106/1000, Loss: 0.3969\n",
      "Epoch 107/1000, Loss: 0.3994\n",
      "Epoch 108/1000, Loss: 0.3973\n",
      "Epoch 109/1000, Loss: 0.4017\n"
     ]
    },
    {
     "ename": "KeyboardInterrupt",
     "evalue": "",
     "output_type": "error",
     "traceback": [
      "\u001b[0;31m---------------------------------------------------------------------------\u001b[0m",
      "\u001b[0;31mKeyboardInterrupt\u001b[0m                         Traceback (most recent call last)",
      "Cell \u001b[0;32mIn[149], line 1\u001b[0m\n\u001b[0;32m----> 1\u001b[0m trainer\u001b[38;5;241m.\u001b[39mfit(X, sample_len\u001b[38;5;241m=\u001b[39m\u001b[38;5;241m140\u001b[39m, library_len\u001b[38;5;241m=\u001b[39m\u001b[38;5;241m400\u001b[39m, exclusion_rad\u001b[38;5;241m=\u001b[39m\u001b[38;5;241m20\u001b[39m, nbrs_num\u001b[38;5;241m=\u001b[39m\u001b[38;5;241m20\u001b[39m, tp\u001b[38;5;241m=\u001b[39m\u001b[38;5;241m30\u001b[39m, epochs\u001b[38;5;241m=\u001b[39m\u001b[38;5;241m1000\u001b[39m, num_batches\u001b[38;5;241m=\u001b[39m\u001b[38;5;241m32\u001b[39m)\n",
      "File \u001b[0;32m~/Documents/Python projects/manifold_learning/src/manifold_learning/IMD.py:102\u001b[0m, in \u001b[0;36mIMD_nD.fit\u001b[0;34m(self, X, sample_len, library_len, exclusion_rad, nbrs_num, tp, epochs, num_batches)\u001b[0m\n\u001b[1;32m     99\u001b[0m sample_X_z \u001b[38;5;241m=\u001b[39m \u001b[38;5;28mself\u001b[39m\u001b[38;5;241m.\u001b[39mmodel(sample_X)\n\u001b[1;32m    100\u001b[0m sample_y_z \u001b[38;5;241m=\u001b[39m \u001b[38;5;28mself\u001b[39m\u001b[38;5;241m.\u001b[39mmodel(sample_y)\n\u001b[0;32m--> 102\u001b[0m loss \u001b[38;5;241m=\u001b[39m \u001b[38;5;28mself\u001b[39m\u001b[38;5;241m.\u001b[39mloss_fn(subset_idx, sample_idx,sample_X_z, sample_y_z, subset_X_z, subset_y_z, nbrs_num, exclusion_rad)\n\u001b[1;32m    103\u001b[0m \u001b[38;5;66;03m#loss /= num_batches\u001b[39;00m\n\u001b[1;32m    104\u001b[0m loss \u001b[38;5;241m/\u001b[39m\u001b[38;5;241m=\u001b[39m tp\n",
      "File \u001b[0;32m~/Documents/Python projects/manifold_learning/src/manifold_learning/IMD.py:142\u001b[0m, in \u001b[0;36mIMD_nD.loss_fn\u001b[0;34m(self, subset_idx, sample_idx, sample_td, sample_pred, subset_td, subset_pred, nbrs_num, exclusion_rad)\u001b[0m\n\u001b[1;32m    140\u001b[0m \u001b[38;5;28;01mdef\u001b[39;00m \u001b[38;5;21mloss_fn\u001b[39m(\u001b[38;5;28mself\u001b[39m, subset_idx, sample_idx, sample_td, sample_pred, subset_td, subset_pred, nbrs_num, exclusion_rad):\n\u001b[1;32m    141\u001b[0m     dim \u001b[38;5;241m=\u001b[39m sample_td\u001b[38;5;241m.\u001b[39mshape[\u001b[38;5;241m-\u001b[39m\u001b[38;5;241m1\u001b[39m]\n\u001b[0;32m--> 142\u001b[0m     ccm \u001b[38;5;241m=\u001b[39m torch\u001b[38;5;241m.\u001b[39mabs(\u001b[38;5;28mself\u001b[39m\u001b[38;5;241m.\u001b[39mget_ccm_matrix_approx(subset_idx, sample_idx, sample_td, sample_pred, subset_td, subset_pred, nbrs_num, exclusion_rad))\n\u001b[1;32m    143\u001b[0m     mask \u001b[38;5;241m=\u001b[39m torch\u001b[38;5;241m.\u001b[39meye(dim,dtype\u001b[38;5;241m=\u001b[39m\u001b[38;5;28mbool\u001b[39m,device\u001b[38;5;241m=\u001b[39m\u001b[38;5;28mself\u001b[39m\u001b[38;5;241m.\u001b[39mdevice)\n\u001b[1;32m    145\u001b[0m     \u001b[38;5;28;01mif\u001b[39;00m \u001b[38;5;28mself\u001b[39m\u001b[38;5;241m.\u001b[39msubtract_corr:\n",
      "File \u001b[0;32m~/Documents/Python projects/manifold_learning/src/manifold_learning/IMD.py:169\u001b[0m, in \u001b[0;36mIMD_nD.get_ccm_matrix_approx\u001b[0;34m(self, subset_idx, sample_idx, sample_td, sample_pred, subset_td, subset_pred, nbrs_num, exclusion_rad)\u001b[0m\n\u001b[1;32m    166\u001b[0m dim \u001b[38;5;241m=\u001b[39m sample_td\u001b[38;5;241m.\u001b[39mshape[\u001b[38;5;241m-\u001b[39m\u001b[38;5;241m1\u001b[39m]\n\u001b[1;32m    167\u001b[0m E \u001b[38;5;241m=\u001b[39m sample_td\u001b[38;5;241m.\u001b[39mshape[\u001b[38;5;241m-\u001b[39m\u001b[38;5;241m2\u001b[39m]\n\u001b[0;32m--> 169\u001b[0m indices \u001b[38;5;241m=\u001b[39m \u001b[38;5;28mself\u001b[39m\u001b[38;5;241m.\u001b[39mget_nbrs_indices(torch\u001b[38;5;241m.\u001b[39mpermute(subset_td,(\u001b[38;5;241m2\u001b[39m,\u001b[38;5;241m0\u001b[39m,\u001b[38;5;241m1\u001b[39m)),torch\u001b[38;5;241m.\u001b[39mpermute(sample_td,(\u001b[38;5;241m2\u001b[39m,\u001b[38;5;241m0\u001b[39m,\u001b[38;5;241m1\u001b[39m)), nbrs_num, subset_idx, sample_idx, exclusion_rad)\n\u001b[1;32m    170\u001b[0m I \u001b[38;5;241m=\u001b[39m indices\u001b[38;5;241m.\u001b[39mreshape(dim,\u001b[38;5;241m-\u001b[39m\u001b[38;5;241m1\u001b[39m)\u001b[38;5;241m.\u001b[39mT \n\u001b[1;32m    172\u001b[0m subset_pred_indexed \u001b[38;5;241m=\u001b[39m subset_pred[I[:, \u001b[38;5;28;01mNone\u001b[39;00m,\u001b[38;5;28;01mNone\u001b[39;00m, :],torch\u001b[38;5;241m.\u001b[39marange(E,device\u001b[38;5;241m=\u001b[39m\u001b[38;5;28mself\u001b[39m\u001b[38;5;241m.\u001b[39mdevice)[:,\u001b[38;5;28;01mNone\u001b[39;00m,\u001b[38;5;28;01mNone\u001b[39;00m], torch\u001b[38;5;241m.\u001b[39marange(dim,device\u001b[38;5;241m=\u001b[39m\u001b[38;5;28mself\u001b[39m\u001b[38;5;241m.\u001b[39mdevice)[\u001b[38;5;28;01mNone\u001b[39;00m,:,\u001b[38;5;28;01mNone\u001b[39;00m]]\n",
      "File \u001b[0;32m~/Documents/Python projects/manifold_learning/src/manifold_learning/IMD.py:238\u001b[0m, in \u001b[0;36mIMD_nD.get_nbrs_indices\u001b[0;34m(self, lib, sublib, n_nbrs, subset_idx, sample_idx, exclusion_rad)\u001b[0m\n\u001b[1;32m    235\u001b[0m     selector \u001b[38;5;241m=\u001b[39m cumsum_mask \u001b[38;5;241m<\u001b[39m\u001b[38;5;241m=\u001b[39m n_nbrs\n\u001b[1;32m    236\u001b[0m     selector \u001b[38;5;241m=\u001b[39m selector \u001b[38;5;241m*\u001b[39m mask\n\u001b[0;32m--> 238\u001b[0m     indices_exc \u001b[38;5;241m=\u001b[39m indices[selector]\u001b[38;5;241m.\u001b[39mview(mask\u001b[38;5;241m.\u001b[39mshape[\u001b[38;5;241m0\u001b[39m],mask\u001b[38;5;241m.\u001b[39mshape[\u001b[38;5;241m1\u001b[39m],n_nbrs)\n\u001b[1;32m    239\u001b[0m     \u001b[38;5;28;01mreturn\u001b[39;00m indices_exc\n\u001b[1;32m    240\u001b[0m \u001b[38;5;28;01melse\u001b[39;00m:\n",
      "\u001b[0;31mKeyboardInterrupt\u001b[0m: "
     ]
    }
   ],
   "source": [
    "trainer.fit(X, sample_len=140, library_len=400, exclusion_rad=20, nbrs_num=20, tp=30, epochs=1000, num_batches=32)\n"
   ]
  },
  {
   "cell_type": "code",
   "execution_count": 31,
   "metadata": {},
   "outputs": [],
   "source": [
    "torch.save(trainer.model.state_dict(), 'traffic_dataset_14_20_sl140_ll400_knn20_tp15.pth')"
   ]
  },
  {
   "cell_type": "code",
   "execution_count": 150,
   "metadata": {},
   "outputs": [
    {
     "data": {
      "text/plain": [
       "[<matplotlib.lines.Line2D at 0x7acb02c67ad0>]"
      ]
     },
     "execution_count": 150,
     "metadata": {},
     "output_type": "execute_result"
    },
    {
     "data": {
      "image/png": "[encoded data removed]",
      "text/plain": [
       "<Figure size 640x480 with 1 Axes>"
      ]
     },
     "metadata": {},
     "output_type": "display_data"
    }
   ],
   "source": [
    "plt.plot(np.abs(trainer.model.get_weights()).mean(axis=(1,2)))"
   ]
  },
  {
   "cell_type": "code",
   "execution_count": 151,
   "metadata": {},
   "outputs": [
    {
     "data": {
      "text/plain": [
       "[<matplotlib.lines.Line2D at 0x7acb01a927b0>]"
      ]
     },
     "execution_count": 151,
     "metadata": {},
     "output_type": "execute_result"
    },
    {
     "data": {
      "image/png": "[encoded data removed]",
      "text/plain": [
       "<Figure size 640x480 with 1 Axes>"
      ]
     },
     "metadata": {},
     "output_type": "display_data"
    }
   ],
   "source": [
    "plt.plot(trainer.get_loss_history()[:])\n"
   ]
  },
  {
   "cell_type": "code",
   "execution_count": 152,
   "metadata": {},
   "outputs": [
    {
     "data": {
      "text/plain": [
       "[<matplotlib.lines.Line2D at 0x7acbc046cfb0>]"
      ]
     },
     "execution_count": 152,
     "metadata": {},
     "output_type": "execute_result"
    },
    {
     "data": {
      "image/png": "[encoded data removed]",
      "text/plain": [
       "<Figure size 640x480 with 1 Axes>"
      ]
     },
     "metadata": {},
     "output_type": "display_data"
    }
   ],
   "source": [
    "plt.plot(trainer.predict(X)[:,3,2],trainer.predict(X)[:,3,1])"
   ]
  },
  {
   "cell_type": "code",
   "execution_count": 153,
   "metadata": {},
   "outputs": [],
   "source": [
    "\n",
    "unmixed = trainer.predict(X)"
   ]
  },
  {
   "cell_type": "code",
   "execution_count": 158,
   "metadata": {},
   "outputs": [
    {
     "data": {
      "text/plain": [
       "[<matplotlib.lines.Line2D at 0x7acbddc86de0>]"
      ]
     },
     "execution_count": 158,
     "metadata": {},
     "output_type": "execute_result"
    },
    {
     "data": {
      "image/png": "[encoded data removed]",
      "text/plain": [
       "<Figure size 640x480 with 1 Axes>"
      ]
     },
     "metadata": {},
     "output_type": "display_data"
    }
   ],
   "source": [
    "plt.plot(trainer.generate(X[:],20,20,1)[1][:,3333].cpu().detach().numpy())\n",
    "plt.plot(X[:,3333])"
   ]
  },
  {
   "cell_type": "code",
   "execution_count": 1,
   "metadata": {},
   "outputs": [
    {
     "ename": "NameError",
     "evalue": "name 'np' is not defined",
     "output_type": "error",
     "traceback": [
      "\u001b[0;31m---------------------------------------------------------------------------\u001b[0m",
      "\u001b[0;31mNameError\u001b[0m                                 Traceback (most recent call last)",
      "Cell \u001b[0;32mIn[1], line 1\u001b[0m\n\u001b[0;32m----> 1\u001b[0m X_pred \u001b[38;5;241m=\u001b[39m np\u001b[38;5;241m.\u001b[39marray([trainer\u001b[38;5;241m.\u001b[39mgenerate(X[:],\u001b[38;5;241m20\u001b[39m,\u001b[38;5;241m20\u001b[39m,i)[\u001b[38;5;241m1\u001b[39m]\u001b[38;5;241m.\u001b[39mcpu()\u001b[38;5;241m.\u001b[39mdetach()\u001b[38;5;241m.\u001b[39mnumpy()[\u001b[38;5;241m-\u001b[39m\u001b[38;5;241m100\u001b[39m:] \u001b[38;5;28;01mfor\u001b[39;00m i \u001b[38;5;129;01min\u001b[39;00m \u001b[38;5;28mrange\u001b[39m(\u001b[38;5;241m1\u001b[39m,\u001b[38;5;241m75\u001b[39m)])\n",
      "\u001b[0;31mNameError\u001b[0m: name 'np' is not defined"
     ]
    }
   ],
   "source": [
    "X_pred = np.array([trainer.generate(X[:],20,20,i)[1].cpu().detach().numpy()[-100:] for i in range(1,75)])"
   ]
  },
  {
   "cell_type": "code",
   "execution_count": null,
   "metadata": {},
   "outputs": [],
   "source": [
    "X_pred_aligned = np.array([np.concatenate([X_pred[i,73-i:],np.full((73-i,X_pred.shape[2]),np.nan)]) for i in range(74)])"
   ]
  },
  {
   "cell_type": "code",
   "execution_count": 126,
   "metadata": {},
   "outputs": [
    {
     "data": {
      "text/plain": [
       "<matplotlib.image.AxesImage at 0x7acb0d09ffe0>"
      ]
     },
     "execution_count": 126,
     "metadata": {},
     "output_type": "execute_result"
    },
    {
     "data": {
      "image/png": "[encoded data removed]",
      "text/plain": [
       "<Figure size 1600x200 with 1 Axes>"
      ]
     },
     "metadata": {},
     "output_type": "display_data"
    }
   ],
   "source": [
    "plt.matshow(X_pred_aligned[:,:,2])"
   ]
  },
  {
   "cell_type": "code",
   "execution_count": 127,
   "metadata": {},
   "outputs": [],
   "source": [
    "X_ = np.nanmean(X_pred_aligned[:,-74:,:],axis=0)[:62]"
   ]
  },
  {
   "cell_type": "code",
   "execution_count": 128,
   "metadata": {},
   "outputs": [
    {
     "data": {
      "text/plain": [
       "<matplotlib.image.AxesImage at 0x7acb0d0c3560>"
      ]
     },
     "execution_count": 128,
     "metadata": {},
     "output_type": "execute_result"
    },
    {
     "data": {
      "image/png": "[encoded data removed]",
      "text/plain": [
       "<Figure size 480x480 with 1 Axes>"
      ]
     },
     "metadata": {},
     "output_type": "display_data"
    }
   ],
   "source": [
    "plt.matshow(X_pred_aligned[:,-74:,1])"
   ]
  },
  {
   "cell_type": "code",
   "execution_count": 130,
   "metadata": {},
   "outputs": [],
   "source": [
    "\n",
    "X_ = pca.inverse_transform(X_[:,:803])"
   ]
  },
  {
   "cell_type": "code",
   "execution_count": 131,
   "metadata": {},
   "outputs": [
    {
     "data": {
      "text/plain": [
       "(62, 145035)"
      ]
     },
     "execution_count": 131,
     "metadata": {},
     "output_type": "execute_result"
    }
   ],
   "source": [
    "X_.shape"
   ]
  },
  {
   "cell_type": "code",
   "execution_count": 132,
   "metadata": {},
   "outputs": [],
   "source": [
    "prediction = np.zeros((62,X_mean.shape[0]))\n",
    "prediction[:,(X_mean != 0)] = X_[:]\n",
    "prediction[:,(X_mean != 0)] = np.round(np.exp(((prediction[:,(X_mean != 0)]*X_std[(X_mean != 0)])+X_mean[(X_mean != 0)]))-1)"
   ]
  },
  {
   "cell_type": "code",
   "execution_count": 21,
   "metadata": {},
   "outputs": [
    {
     "data": {
      "text/plain": [
       "145063"
      ]
     },
     "execution_count": 21,
     "metadata": {},
     "output_type": "execute_result"
    }
   ],
   "source": [
    "train_df = pd.read_csv(\"../src/manifold_learning/data/datasets/train_2.csv\")\n",
    "key_df = pd.read_csv(\"../src/manifold_learning/data/datasets/key_2.csv\")\n",
    "\n",
    "names = np.array([i[:-11] for i in key_df[\"Page\"].to_numpy()])\n",
    "\n",
    "sorted_indices = np.argsort(train_df[\"Page\"].to_numpy())\n",
    "\n",
    "# Create a sorted version of A\n",
    "sorted_A = train_df[\"Page\"].to_numpy()[sorted_indices]\n",
    "\n",
    "# Use searchsorted to find the indices of B elements in the sorted A\n",
    "order = sorted_indices[np.searchsorted(sorted_A, names[::62])]\n",
    "\n",
    "(train_df[\"Page\"][order].to_numpy() == names[::62]).sum()"
   ]
  },
  {
   "cell_type": "code",
   "execution_count": 133,
   "metadata": {},
   "outputs": [],
   "source": [
    "res = pd.read_csv(\"../src/manifold_learning/data/datasets/sample_submission_2.csv\")\n",
    "res[\"Visits\"] = prediction[:,order].T.flatten().astype(int)\n",
    "\n",
    "res.set_index(\"Id\").to_csv(\"../src/manifold_learning/data/datasets/results_2.csv\")"
   ]
  },
  {
   "cell_type": "code",
   "execution_count": 134,
   "metadata": {},
   "outputs": [
    {
     "data": {
      "image/png": "[encoded data removed]",
      "text/plain": [
       "<Figure size 640x480 with 1 Axes>"
      ]
     },
     "metadata": {},
     "output_type": "display_data"
    }
   ],
   "source": [
    "plt.plot(np.arange(X.shape[0],X.shape[0]+62),prediction[:,order[333]])\n",
    "plt.plot(train_df.iloc[order[333]][1:].to_numpy())\n",
    "#plt.xlim(600,920)\n",
    "plt.yscale(\"log\")"
   ]
  },
  {
   "cell_type": "code",
   "execution_count": 646,
   "metadata": {},
   "outputs": [
    {
     "data": {
      "text/plain": [
       "[<matplotlib.lines.Line2D at 0x7504cd949880>]"
      ]
     },
     "execution_count": 646,
     "metadata": {},
     "output_type": "execute_result"
    },
    {
     "data": {
      "image/png": "[encoded data removed]",
      "text/plain": [
       "<Figure size 640x480 with 1 Axes>"
      ]
     },
     "metadata": {},
     "output_type": "display_data"
    }
   ],
   "source": [
    "\n",
    "pca = PCA(6)\n",
    "xxx = pca.fit_transform(unmixed[:,3])\n",
    "plt.plot(np.cumsum(pca.explained_variance_ratio_))"
   ]
  },
  {
   "cell_type": "code",
   "execution_count": 49,
   "metadata": {},
   "outputs": [
    {
     "ename": "ValueError",
     "evalue": "'c' argument has 50 elements, which is inconsistent with 'x' and 'y' with size 650.",
     "output_type": "error",
     "traceback": [
      "\u001b[0;31m---------------------------------------------------------------------------\u001b[0m",
      "\u001b[0;31mValueError\u001b[0m                                Traceback (most recent call last)",
      "File \u001b[0;32m~/miniconda3/lib/python3.12/site-packages/matplotlib/axes/_axes.py:4483\u001b[0m, in \u001b[0;36mAxes._parse_scatter_color_args\u001b[0;34m(c, edgecolors, kwargs, xsize, get_next_color_func)\u001b[0m\n\u001b[1;32m   4482\u001b[0m \u001b[38;5;28;01mtry\u001b[39;00m:  \u001b[38;5;66;03m# Is 'c' acceptable as PathCollection facecolors?\u001b[39;00m\n\u001b[0;32m-> 4483\u001b[0m     colors \u001b[38;5;241m=\u001b[39m mcolors\u001b[38;5;241m.\u001b[39mto_rgba_array(c)\n\u001b[1;32m   4484\u001b[0m \u001b[38;5;28;01mexcept\u001b[39;00m (\u001b[38;5;167;01mTypeError\u001b[39;00m, \u001b[38;5;167;01mValueError\u001b[39;00m) \u001b[38;5;28;01mas\u001b[39;00m err:\n",
      "File \u001b[0;32m~/miniconda3/lib/python3.12/site-packages/matplotlib/colors.py:505\u001b[0m, in \u001b[0;36mto_rgba_array\u001b[0;34m(c, alpha)\u001b[0m\n\u001b[1;32m    504\u001b[0m \u001b[38;5;28;01melse\u001b[39;00m:\n\u001b[0;32m--> 505\u001b[0m     rgba \u001b[38;5;241m=\u001b[39m np\u001b[38;5;241m.\u001b[39marray([to_rgba(cc) \u001b[38;5;28;01mfor\u001b[39;00m cc \u001b[38;5;129;01min\u001b[39;00m c])\n\u001b[1;32m    507\u001b[0m \u001b[38;5;28;01mif\u001b[39;00m alpha \u001b[38;5;129;01mis\u001b[39;00m \u001b[38;5;129;01mnot\u001b[39;00m \u001b[38;5;28;01mNone\u001b[39;00m:\n",
      "File \u001b[0;32m~/miniconda3/lib/python3.12/site-packages/matplotlib/colors.py:302\u001b[0m, in \u001b[0;36mto_rgba\u001b[0;34m(c, alpha)\u001b[0m\n\u001b[1;32m    301\u001b[0m \u001b[38;5;28;01mif\u001b[39;00m rgba \u001b[38;5;129;01mis\u001b[39;00m \u001b[38;5;28;01mNone\u001b[39;00m:  \u001b[38;5;66;03m# Suppress exception chaining of cache lookup failure.\u001b[39;00m\n\u001b[0;32m--> 302\u001b[0m     rgba \u001b[38;5;241m=\u001b[39m _to_rgba_no_colorcycle(c, alpha)\n\u001b[1;32m    303\u001b[0m     \u001b[38;5;28;01mtry\u001b[39;00m:\n",
      "File \u001b[0;32m~/miniconda3/lib/python3.12/site-packages/matplotlib/colors.py:391\u001b[0m, in \u001b[0;36m_to_rgba_no_colorcycle\u001b[0;34m(c, alpha)\u001b[0m\n\u001b[1;32m    390\u001b[0m \u001b[38;5;28;01mif\u001b[39;00m \u001b[38;5;129;01mnot\u001b[39;00m np\u001b[38;5;241m.\u001b[39miterable(c):\n\u001b[0;32m--> 391\u001b[0m     \u001b[38;5;28;01mraise\u001b[39;00m \u001b[38;5;167;01mValueError\u001b[39;00m(\u001b[38;5;124mf\u001b[39m\u001b[38;5;124m\"\u001b[39m\u001b[38;5;124mInvalid RGBA argument: \u001b[39m\u001b[38;5;132;01m{\u001b[39;00morig_c\u001b[38;5;132;01m!r}\u001b[39;00m\u001b[38;5;124m\"\u001b[39m)\n\u001b[1;32m    392\u001b[0m \u001b[38;5;28;01mif\u001b[39;00m \u001b[38;5;28mlen\u001b[39m(c) \u001b[38;5;129;01mnot\u001b[39;00m \u001b[38;5;129;01min\u001b[39;00m [\u001b[38;5;241m3\u001b[39m, \u001b[38;5;241m4\u001b[39m]:\n",
      "\u001b[0;31mValueError\u001b[0m: Invalid RGBA argument: 0.0",
      "\nThe above exception was the direct cause of the following exception:\n",
      "\u001b[0;31mValueError\u001b[0m                                Traceback (most recent call last)",
      "Cell \u001b[0;32mIn[49], line 1\u001b[0m\n\u001b[0;32m----> 1\u001b[0m plt\u001b[38;5;241m.\u001b[39mscatter(xxx[:,\u001b[38;5;241m0\u001b[39m], xxx[:,\u001b[38;5;241m1\u001b[39m],c\u001b[38;5;241m=\u001b[39mnp\u001b[38;5;241m.\u001b[39marange(\u001b[38;5;241m50\u001b[39m))\n",
      "File \u001b[0;32m~/miniconda3/lib/python3.12/site-packages/matplotlib/pyplot.py:3687\u001b[0m, in \u001b[0;36mscatter\u001b[0;34m(x, y, s, c, marker, cmap, norm, vmin, vmax, alpha, linewidths, edgecolors, plotnonfinite, data, **kwargs)\u001b[0m\n\u001b[1;32m   3668\u001b[0m \u001b[38;5;129m@_copy_docstring_and_deprecators\u001b[39m(Axes\u001b[38;5;241m.\u001b[39mscatter)\n\u001b[1;32m   3669\u001b[0m \u001b[38;5;28;01mdef\u001b[39;00m \u001b[38;5;21mscatter\u001b[39m(\n\u001b[1;32m   3670\u001b[0m     x: \u001b[38;5;28mfloat\u001b[39m \u001b[38;5;241m|\u001b[39m ArrayLike,\n\u001b[0;32m   (...)\u001b[0m\n\u001b[1;32m   3685\u001b[0m     \u001b[38;5;241m*\u001b[39m\u001b[38;5;241m*\u001b[39mkwargs,\n\u001b[1;32m   3686\u001b[0m ) \u001b[38;5;241m-\u001b[39m\u001b[38;5;241m>\u001b[39m PathCollection:\n\u001b[0;32m-> 3687\u001b[0m     __ret \u001b[38;5;241m=\u001b[39m gca()\u001b[38;5;241m.\u001b[39mscatter(\n\u001b[1;32m   3688\u001b[0m         x,\n\u001b[1;32m   3689\u001b[0m         y,\n\u001b[1;32m   3690\u001b[0m         s\u001b[38;5;241m=\u001b[39ms,\n\u001b[1;32m   3691\u001b[0m         c\u001b[38;5;241m=\u001b[39mc,\n\u001b[1;32m   3692\u001b[0m         marker\u001b[38;5;241m=\u001b[39mmarker,\n\u001b[1;32m   3693\u001b[0m         cmap\u001b[38;5;241m=\u001b[39mcmap,\n\u001b[1;32m   3694\u001b[0m         norm\u001b[38;5;241m=\u001b[39mnorm,\n\u001b[1;32m   3695\u001b[0m         vmin\u001b[38;5;241m=\u001b[39mvmin,\n\u001b[1;32m   3696\u001b[0m         vmax\u001b[38;5;241m=\u001b[39mvmax,\n\u001b[1;32m   3697\u001b[0m         alpha\u001b[38;5;241m=\u001b[39malpha,\n\u001b[1;32m   3698\u001b[0m         linewidths\u001b[38;5;241m=\u001b[39mlinewidths,\n\u001b[1;32m   3699\u001b[0m         edgecolors\u001b[38;5;241m=\u001b[39medgecolors,\n\u001b[1;32m   3700\u001b[0m         plotnonfinite\u001b[38;5;241m=\u001b[39mplotnonfinite,\n\u001b[1;32m   3701\u001b[0m         \u001b[38;5;241m*\u001b[39m\u001b[38;5;241m*\u001b[39m({\u001b[38;5;124m\"\u001b[39m\u001b[38;5;124mdata\u001b[39m\u001b[38;5;124m\"\u001b[39m: data} \u001b[38;5;28;01mif\u001b[39;00m data \u001b[38;5;129;01mis\u001b[39;00m \u001b[38;5;129;01mnot\u001b[39;00m \u001b[38;5;28;01mNone\u001b[39;00m \u001b[38;5;28;01melse\u001b[39;00m {}),\n\u001b[1;32m   3702\u001b[0m         \u001b[38;5;241m*\u001b[39m\u001b[38;5;241m*\u001b[39mkwargs,\n\u001b[1;32m   3703\u001b[0m     )\n\u001b[1;32m   3704\u001b[0m     sci(__ret)\n\u001b[1;32m   3705\u001b[0m     \u001b[38;5;28;01mreturn\u001b[39;00m __ret\n",
      "File \u001b[0;32m~/miniconda3/lib/python3.12/site-packages/matplotlib/__init__.py:1465\u001b[0m, in \u001b[0;36m_preprocess_data.<locals>.inner\u001b[0;34m(ax, data, *args, **kwargs)\u001b[0m\n\u001b[1;32m   1462\u001b[0m \u001b[38;5;129m@functools\u001b[39m\u001b[38;5;241m.\u001b[39mwraps(func)\n\u001b[1;32m   1463\u001b[0m \u001b[38;5;28;01mdef\u001b[39;00m \u001b[38;5;21minner\u001b[39m(ax, \u001b[38;5;241m*\u001b[39margs, data\u001b[38;5;241m=\u001b[39m\u001b[38;5;28;01mNone\u001b[39;00m, \u001b[38;5;241m*\u001b[39m\u001b[38;5;241m*\u001b[39mkwargs):\n\u001b[1;32m   1464\u001b[0m     \u001b[38;5;28;01mif\u001b[39;00m data \u001b[38;5;129;01mis\u001b[39;00m \u001b[38;5;28;01mNone\u001b[39;00m:\n\u001b[0;32m-> 1465\u001b[0m         \u001b[38;5;28;01mreturn\u001b[39;00m func(ax, \u001b[38;5;241m*\u001b[39m\u001b[38;5;28mmap\u001b[39m(sanitize_sequence, args), \u001b[38;5;241m*\u001b[39m\u001b[38;5;241m*\u001b[39mkwargs)\n\u001b[1;32m   1467\u001b[0m     bound \u001b[38;5;241m=\u001b[39m new_sig\u001b[38;5;241m.\u001b[39mbind(ax, \u001b[38;5;241m*\u001b[39margs, \u001b[38;5;241m*\u001b[39m\u001b[38;5;241m*\u001b[39mkwargs)\n\u001b[1;32m   1468\u001b[0m     auto_label \u001b[38;5;241m=\u001b[39m (bound\u001b[38;5;241m.\u001b[39marguments\u001b[38;5;241m.\u001b[39mget(label_namer)\n\u001b[1;32m   1469\u001b[0m                   \u001b[38;5;129;01mor\u001b[39;00m bound\u001b[38;5;241m.\u001b[39mkwargs\u001b[38;5;241m.\u001b[39mget(label_namer))\n",
      "File \u001b[0;32m~/miniconda3/lib/python3.12/site-packages/matplotlib/axes/_axes.py:4670\u001b[0m, in \u001b[0;36mAxes.scatter\u001b[0;34m(self, x, y, s, c, marker, cmap, norm, vmin, vmax, alpha, linewidths, edgecolors, plotnonfinite, **kwargs)\u001b[0m\n\u001b[1;32m   4667\u001b[0m \u001b[38;5;28;01mif\u001b[39;00m edgecolors \u001b[38;5;129;01mis\u001b[39;00m \u001b[38;5;28;01mNone\u001b[39;00m:\n\u001b[1;32m   4668\u001b[0m     orig_edgecolor \u001b[38;5;241m=\u001b[39m kwargs\u001b[38;5;241m.\u001b[39mget(\u001b[38;5;124m'\u001b[39m\u001b[38;5;124medgecolor\u001b[39m\u001b[38;5;124m'\u001b[39m, \u001b[38;5;28;01mNone\u001b[39;00m)\n\u001b[1;32m   4669\u001b[0m c, colors, edgecolors \u001b[38;5;241m=\u001b[39m \\\n\u001b[0;32m-> 4670\u001b[0m     \u001b[38;5;28mself\u001b[39m\u001b[38;5;241m.\u001b[39m_parse_scatter_color_args(\n\u001b[1;32m   4671\u001b[0m         c, edgecolors, kwargs, x\u001b[38;5;241m.\u001b[39msize,\n\u001b[1;32m   4672\u001b[0m         get_next_color_func\u001b[38;5;241m=\u001b[39m\u001b[38;5;28mself\u001b[39m\u001b[38;5;241m.\u001b[39m_get_patches_for_fill\u001b[38;5;241m.\u001b[39mget_next_color)\n\u001b[1;32m   4674\u001b[0m \u001b[38;5;28;01mif\u001b[39;00m plotnonfinite \u001b[38;5;129;01mand\u001b[39;00m colors \u001b[38;5;129;01mis\u001b[39;00m \u001b[38;5;28;01mNone\u001b[39;00m:\n\u001b[1;32m   4675\u001b[0m     c \u001b[38;5;241m=\u001b[39m np\u001b[38;5;241m.\u001b[39mma\u001b[38;5;241m.\u001b[39mmasked_invalid(c)\n",
      "File \u001b[0;32m~/miniconda3/lib/python3.12/site-packages/matplotlib/axes/_axes.py:4489\u001b[0m, in \u001b[0;36mAxes._parse_scatter_color_args\u001b[0;34m(c, edgecolors, kwargs, xsize, get_next_color_func)\u001b[0m\n\u001b[1;32m   4487\u001b[0m \u001b[38;5;28;01melse\u001b[39;00m:\n\u001b[1;32m   4488\u001b[0m     \u001b[38;5;28;01mif\u001b[39;00m \u001b[38;5;129;01mnot\u001b[39;00m valid_shape:\n\u001b[0;32m-> 4489\u001b[0m         \u001b[38;5;28;01mraise\u001b[39;00m invalid_shape_exception(c\u001b[38;5;241m.\u001b[39msize, xsize) \u001b[38;5;28;01mfrom\u001b[39;00m \u001b[38;5;21;01merr\u001b[39;00m\n\u001b[1;32m   4490\u001b[0m     \u001b[38;5;66;03m# Both the mapping *and* the RGBA conversion failed: pretty\u001b[39;00m\n\u001b[1;32m   4491\u001b[0m     \u001b[38;5;66;03m# severe failure => one may appreciate a verbose feedback.\u001b[39;00m\n\u001b[1;32m   4492\u001b[0m     \u001b[38;5;28;01mraise\u001b[39;00m \u001b[38;5;167;01mValueError\u001b[39;00m(\n\u001b[1;32m   4493\u001b[0m         \u001b[38;5;124mf\u001b[39m\u001b[38;5;124m\"\u001b[39m\u001b[38;5;124m'\u001b[39m\u001b[38;5;124mc\u001b[39m\u001b[38;5;124m'\u001b[39m\u001b[38;5;124m argument must be a color, a sequence of colors, \u001b[39m\u001b[38;5;124m\"\u001b[39m\n\u001b[1;32m   4494\u001b[0m         \u001b[38;5;124mf\u001b[39m\u001b[38;5;124m\"\u001b[39m\u001b[38;5;124mor a sequence of numbers, not \u001b[39m\u001b[38;5;132;01m{\u001b[39;00mc\u001b[38;5;132;01m!r}\u001b[39;00m\u001b[38;5;124m\"\u001b[39m) \u001b[38;5;28;01mfrom\u001b[39;00m \u001b[38;5;21;01merr\u001b[39;00m\n",
      "\u001b[0;31mValueError\u001b[0m: 'c' argument has 50 elements, which is inconsistent with 'x' and 'y' with size 650."
     ]
    },
    {
     "data": {
      "image/png": "[encoded data removed]",
      "text/plain": [
       "<Figure size 640x480 with 1 Axes>"
      ]
     },
     "metadata": {},
     "output_type": "display_data"
    }
   ],
   "source": [
    "plt.scatter(xxx[:,0], xxx[:,1],c=np.arange(550))"
   ]
  },
  {
   "cell_type": "code",
   "execution_count": 647,
   "metadata": {},
   "outputs": [
    {
     "data": {
      "application/vnd.plotly.v1+json": {
       "config": {
        "plotlyServerURL": "https://plot.ly"
       },
       "data": [
        {
         "hovertemplate": "x=%{x}<br>y=%{y}<br>z=%{z}<extra></extra>",
         "legendgroup": "",
         "line": {
          "color": "#636efa",
          "dash": "solid"
         },
         "marker": {
          "symbol": "circle"
         },
         "mode": "lines",
         "name": "",
         "scene": "scene",
         "showlegend": false,
         "type": "scatter3d",
         "x": [
          -100.43817901611328,
          -70.46752166748047,
          -65.34178161621094,
          115.1517333984375,
          92.32906341552734,
          59.51552963256836,
          -14.405973434448242,
          -80.76426696777344,
          -35.455223083496094,
          64.22245788574219,
          69.70954895019531,
          62.026493072509766,
          -73.28294372558594,
          -91.91567993164062,
          -106.14904022216797,
          97.78763580322266,
          92.01497650146484,
          122.05400085449219,
          -128.0446319580078,
          -127.3797378540039,
          -112.84422302246094,
          186.45852661132812,
          176.11659240722656,
          147.07745361328125,
          -203.13311767578125,
          -213.15890502929688,
          -193.9052276611328,
          238.32855224609375,
          236.22511291503906,
          235.28076171875,
          -405.326171875,
          -357.9085998535156,
          -398.8393859863281,
          202.47146606445312,
          201.61582946777344,
          204.2996826171875,
          -279.69244384765625,
          -248.21665954589844,
          -236.32608032226562,
          187.296875,
          188.20574951171875,
          180.02056884765625,
          -99.61185455322266,
          -79.44087219238281,
          -38.070068359375,
          12.996342658996582,
          -29.718013763427734,
          -77.76573181152344,
          91.68207550048828,
          42.978275299072266,
          86.87872314453125,
          63.00897979736328,
          63.37361145019531,
          16.402175903320312,
          102.1685791015625,
          49.66437911987305,
          18.995786666870117,
          48.671966552734375,
          59.466575622558594,
          30.67258644104004,
          120.7753677368164,
          166.15231323242188,
          107.12029266357422,
          93.92285919189453,
          5.422563076019287,
          196.50523376464844,
          165.12205505371094,
          116.46231842041016,
          108.79846954345703,
          339.5538024902344,
          441.2002258300781,
          -1.4566200971603394,
          385.7828674316406,
          330.6898498535156,
          -9.580710411071777,
          328.33306884765625,
          354.1283264160156,
          32.79530334472656,
          365.68865966796875,
          337.03045654296875,
          240.52316284179688,
          307.3220520019531,
          321.5545959472656,
          332.55963134765625,
          301.3810729980469,
          284.3302001953125,
          284.5522155761719,
          307.8406982421875,
          267.8337707519531,
          283.36651611328125,
          203.13140869140625,
          97.1497573852539,
          83.0577621459961,
          -109.27193450927734,
          -179.2962646484375,
          -163.02053833007812,
          -275.8126525878906,
          -88.06927490234375,
          -108.25804138183594,
          -226.20498657226562,
          -111.45155334472656,
          -105.46942901611328,
          -137.52101135253906,
          -93.41362762451172,
          -111.38288879394531,
          -77.38556671142578,
          -108.66493225097656,
          -76.90223693847656,
          -16.281999588012695,
          -99.75853729248047,
          -85.9109878540039,
          -5.848718166351318,
          -108.90194702148438,
          -94.95918273925781,
          -16.212860107421875,
          -102.80966186523438,
          -61.94972229003906,
          3.495997190475464,
          -51.98167037963867,
          -34.2435302734375,
          -4.358686923980713,
          -9.07120132446289,
          -0.332340806722641,
          6.6898322105407715,
          -5.570364952087402,
          -5.479458332061768,
          -12.991290092468262,
          -5.132410049438477,
          -12.159575462341309,
          -8.523173332214355,
          -0.6104541420936584,
          -6.032417297363281,
          -14.651041984558105,
          -8.163654327392578,
          -9.749638557434082,
          -8.126299858093262,
          -9.827513694763184,
          -9.649487495422363,
          -8.238570213317871,
          -7.262547969818115,
          -7.446219444274902,
          5.369024753570557,
          -13.940203666687012,
          -4.252182483673096,
          -16.27518081665039,
          -2.134786605834961,
          -7.692477703094482,
          -5.3495635986328125,
          -3.502164363861084,
          -8.67270565032959,
          -7.128767013549805,
          -9.914786338806152,
          -14.726351737976074,
          -13.347820281982422,
          -13.277154922485352,
          -8.452630996704102,
          -7.026456356048584,
          -8.431388854980469,
          -1.6011542081832886,
          -11.240021705627441,
          -8.411056518554688,
          -18.833377838134766,
          -5.262925624847412,
          -2.5933823585510254,
          -6.991399765014648,
          -4.060545444488525,
          -2.086918830871582,
          -11.205745697021484,
          -9.905431747436523,
          -18.796932220458984,
          -15.822715759277344,
          -3.5066397190093994,
          1.2154630422592163,
          -1.847357988357544,
          -15.235444068908691,
          -12.893901824951172,
          -18.91225242614746,
          -3.603760242462158,
          -4.039190292358398,
          2.5657339096069336,
          -2.3829762935638428,
          -3.0429418087005615,
          -2.219888210296631,
          1.1202833652496338,
          -11.840225219726562,
          -11.67781925201416,
          -29.337669372558594,
          -2.161804437637329,
          -2.5877609252929688,
          -19.519500732421875,
          -14.934008598327637,
          -10.72388744354248,
          11.379742622375488,
          -8.024065971374512,
          -8.97778034210205,
          12.820323944091797,
          -9.247237205505371,
          -9.738637924194336,
          -10.678716659545898,
          -5.2694478034973145,
          -16.31005859375,
          -11.333577156066895,
          -11.055651664733887,
          -6.05352783203125,
          -10.709409713745117,
          -7.724667549133301,
          -4.974651336669922,
          -6.719207286834717,
          -2.9811089038848877,
          -6.374547481536865,
          -3.038982391357422,
          -2.250675678253174,
          -9.065646171569824,
          -10.064827919006348,
          -5.530491828918457,
          -15.722501754760742,
          -8.157655715942383,
          -12.265105247497559,
          10.980826377868652,
          -11.7217435836792,
          6.810221195220947,
          -5.463442325592041,
          -9.160940170288086,
          -64.71778106689453,
          -7.877187252044678,
          2.965902328491211,
          8.374643325805664,
          -3.880136013031006,
          -0.9748162627220154,
          -6.686296463012695,
          -11.059321403503418,
          -3.911771297454834,
          -3.069801092147827,
          7.030649185180664,
          -7.204336166381836,
          -13.622570037841797,
          -25.5377140045166,
          -15.686165809631348,
          -3.6057546138763428,
          -17.14107894897461,
          -6.0576958656311035,
          -5.093395233154297,
          12.40839958190918,
          -3.216351270675659,
          -5.62160062789917,
          -0.46224352717399597,
          -5.345983982086182,
          -7.200319290161133,
          7.243505001068115,
          -14.083409309387207,
          -6.371569633483887,
          -9.33510971069336,
          -3.6372969150543213,
          -5.356229782104492,
          -1.6474217176437378,
          -15.15544319152832,
          -13.255546569824219,
          -5.702248573303223,
          -2.383180856704712,
          -7.40367317199707,
          -13.446701049804688,
          -17.178028106689453,
          -16.555950164794922,
          -7.479715347290039,
          -8.51543140411377,
          -30.622268676757812,
          -5.637548923492432,
          -13.572186470031738,
          16.005889892578125,
          -6.49605655670166,
          -0.2164415866136551,
          12.035294532775879,
          -6.89854097366333,
          -13.955643653869629,
          -9.456448554992676,
          -4.776654243469238,
          -9.650430679321289,
          -27.85257339477539,
          -6.568544387817383,
          -15.582964897155762,
          6.781484127044678,
          -11.426790237426758,
          -13.409313201904297,
          0.3494943380355835,
          -3.447815418243408,
          -3.6923720836639404,
          -5.038455963134766,
          3.3014097213745117,
          -8.630793571472168,
          -10.194679260253906,
          -9.07894515991211,
          -7.372368335723877,
          -6.755914688110352,
          3.1247637271881104,
          -4.186686038970947,
          -10.580787658691406,
          -26.145193099975586,
          -1.8814181089401245,
          -9.360455513000488,
          23.532960891723633,
          -7.872746467590332,
          -6.659954071044922,
          47.786319732666016,
          -10.875035285949707,
          -12.095903396606445,
          -43.80414962768555,
          -8.673925399780273,
          -10.774612426757812,
          13.031560897827148,
          -9.951321601867676,
          -2.368332862854004,
          31.565935134887695,
          -11.284392356872559,
          3.8001937866210938,
          -13.048379898071289,
          -9.377352714538574,
          13.400049209594727,
          -3.272894859313965,
          -9.255599975585938,
          -3.8274731636047363,
          -4.0522942543029785,
          -9.066447257995605,
          -13.048779487609863,
          -3.2782139778137207,
          -18.115230560302734,
          -11.306906700134277,
          -0.4699539542198181,
          -18.93403434753418,
          -5.544415473937988,
          -9.813779830932617,
          -7.2938761711120605,
          -4.582516193389893,
          -3.430741786956787,
          -13.765995025634766,
          -5.607337951660156,
          -7.551632881164551,
          -6.657408714294434,
          -7.936392784118652,
          -0.37424662709236145,
          -10.7415771484375,
          -5.26240873336792,
          -3.8183014392852783,
          -11.895768165588379,
          -5.68454647064209,
          -7.246543884277344,
          -20.61056137084961,
          -0.15819606184959412,
          -10.858330726623535,
          3.4082510471343994,
          -12.098773956298828,
          -5.773940086364746,
          -11.282825469970703,
          -3.4540233612060547,
          -10.454012870788574,
          -6.635418891906738,
          -7.068220615386963,
          -10.545785903930664,
          -16.05949592590332,
          -16.539424896240234,
          -6.529913902282715,
          -4.507192611694336,
          0.393616259098053,
          -2.9205286502838135,
          -10.786885261535645,
          -8.55689811706543,
          -7.741436958312988,
          -6.048459053039551,
          -8.083949089050293,
          -7.72932243347168,
          5.5247907638549805,
          -17.50722885131836,
          -12.94611644744873,
          -18.376996994018555,
          0.31409507989883423,
          -8.227100372314453,
          -18.39781951904297,
          -22.98328971862793,
          -12.278228759765625,
          1.5864821672439575,
          -15.114013671875,
          -5.574151039123535,
          -7.419957637786865,
          5.955421447753906,
          -6.3782958984375,
          -11.699114799499512,
          -8.778589248657227,
          -9.076866149902344,
          -5.743399143218994,
          -6.994089126586914,
          -5.030877590179443,
          -3.345247745513916,
          19.08787727355957,
          -12.990653038024902,
          -11.158651351928711,
          -40.25850296020508,
          -0.5419777631759644,
          -11.00810718536377,
          -0.10245423763990402,
          -4.773653984069824,
          -6.809756755828857,
          -8.757129669189453,
          -4.712430953979492,
          0.6854971647262573,
          -7.563962936401367,
          -21.850711822509766,
          -4.746889591217041,
          -14.540234565734863,
          -33.56155776977539,
          -9.729146957397461,
          -4.715937614440918,
          -3.6969754695892334,
          -8.155224800109863,
          -2.2725510597229004,
          -3.5106403827667236,
          -1.314679503440857,
          -5.3085103034973145,
          -2.0325207710266113,
          -10.543601036071777,
          -7.093552589416504,
          -9.93191909790039,
          -4.06394624710083,
          -1.9608700275421143,
          -1.3405457735061646,
          -9.450348854064941,
          -6.349442958831787,
          -1.6304436922073364,
          -2.7734172344207764,
          -0.3224526643753052,
          -22.30735206604004,
          14.465193748474121,
          -11.692586898803711,
          30.539453506469727,
          4.976847171783447,
          -2.735546827316284,
          -19.541242599487305,
          -16.477848052978516,
          -7.830361843109131,
          -2.807680368423462,
          -8.397677421569824,
          -10.249174118041992,
          -8.211403846740723,
          -9.589563369750977,
          1.1344646215438843,
          2.7293882369995117,
          -9.240388870239258,
          -2.2511067390441895,
          -6.104474067687988,
          -8.811705589294434,
          -9.005434036254883,
          -10.335673332214355,
          -10.51872730255127,
          -3.197953462600708,
          -6.577599048614502,
          7.3098249435424805,
          -12.388663291931152,
          -9.218979835510254,
          9.202422142028809,
          -1.8032989501953125,
          -6.616888046264648,
          -33.2989501953125,
          -4.865792751312256,
          -12.617230415344238,
          0.8090688586235046,
          -9.454452514648438,
          -5.734686851501465,
          0.14677496254444122,
          -8.079339981079102,
          -12.876755714416504,
          -27.687103271484375,
          -11.619664192199707,
          -3.468618392944336,
          14.764047622680664,
          -6.054559230804443,
          -9.541470527648926,
          19.176372528076172,
          -11.868181228637695,
          -8.372859001159668,
          -7.235506057739258,
          -5.15394401550293,
          -5.599267482757568,
          -23.4043025970459,
          -1.6729261875152588,
          -9.881437301635742,
          0.7521132230758667,
          -7.176113605499268,
          1.8705259561538696,
          -12.249910354614258,
          -10.672235488891602,
          14.3237886428833,
          -11.41010856628418,
          -4.206652641296387,
          -17.965518951416016,
          -14.65976333618164,
          -7.960302352905273,
          -3.681303024291992,
          3.0356597900390625,
          -10.204785346984863,
          -10.588508605957031,
          -10.168228149414062,
          -7.05078125,
          -8.12498950958252,
          -11.344926834106445,
          -10.122690200805664,
          -12.706503868103027,
          10.835429191589355,
          -9.32700252532959,
          -4.624275207519531,
          2.046081781387329,
          -3.2665815353393555,
          -4.085232734680176,
          2.7716867923736572,
          -2.7380878925323486,
          -9.996607780456543,
          -5.736093044281006,
          -16.503982543945312,
          -9.011489868164062,
          -9.288005828857422,
          5.310081958770752,
          -12.266097068786621,
          -5.305234909057617,
          25.94879913330078,
          -2.5888140201568604,
          -7.411560535430908,
          -7.96647310256958,
          -12.63235092163086,
          -6.190548419952393,
          -6.069919586181641,
          0.2744050621986389,
          -16.09848403930664,
          -3.905750036239624,
          -13.19725227355957,
          -6.220128536224365,
          -6.7163848876953125,
          -6.412492752075195,
          -9.032986640930176,
          -7.55832052230835,
          -5.516984939575195,
          -18.462127685546875,
          -12.419190406799316,
          -10.33090877532959,
          4.851174354553223,
          -5.898558616638184,
          -12.503615379333496,
          -27.86083221435547,
          -12.0330810546875,
          -3.3071131706237793,
          1.6933668851852417,
          -5.820377349853516,
          -14.18795108795166,
          0.6254452466964722,
          -10.236198425292969,
          -10.020649909973145,
          4.683553695678711,
          -19.17180061340332,
          -4.9915771484375,
          -27.777629852294922,
          2.5397439002990723,
          -14.950060844421387,
          -12.53564453125,
          -32.334720611572266,
          11.718209266662598,
          -12.186046600341797,
          -6.702618598937988,
          20.211912155151367,
          -8.629721641540527,
          -0.9687438607215881,
          -4.325348377227783,
          -6.002630233764648,
          -12.251937866210938,
          -10.645167350769043,
          -2.1428236961364746,
          -7.752909183502197,
          -4.6423726081848145,
          -11.015633583068848,
          -5.530242919921875,
          -10.375334739685059,
          -7.178205490112305,
          8.837751388549805,
          -5.393908500671387,
          -12.578325271606445,
          -10.547523498535156,
          -9.69321346282959,
          -6.020384311676025,
          0.07024648040533066,
          -2.4377846717834473,
          -12.415860176086426,
          -6.9434685707092285,
          -23.682373046875,
          0.6892123222351074,
          -3.6220414638519287,
          0.29657182097435,
          -11.964485168457031,
          -6.578188419342041,
          -6.467775821685791,
          -13.71995735168457,
          9.50008773803711,
          -15.432111740112305,
          -3.2772603034973145,
          -28.972213745117188,
          -5.755998134613037,
          -1.870147943496704,
          11.343530654907227,
          -8.802955627441406,
          -14.949609756469727,
          39.2276611328125,
          -8.715497970581055,
          6.976212501525879,
          -55.65372085571289,
          -11.490302085876465,
          3.9703738689422607,
          30.46036720275879,
          -9.279250144958496,
          -5.34509801864624,
          5.285801410675049,
          -4.397777557373047,
          -6.918615341186523,
          -38.38269805908203,
          -10.52193546295166,
          -4.88854455947876,
          11.343157768249512,
          -10.902580261230469,
          -7.1861701011657715,
          -33.17380905151367,
          -7.955373287200928,
          -12.506902694702148,
          11.747720718383789,
          -16.499414443969727,
          -12.493247032165527,
          4.322775840759277,
          -8.10478401184082,
          -12.705839157104492,
          -10.278772354125977,
          -5.770381927490234,
          0.13129331171512604,
          -15.270578384399414,
          -2.311063528060913,
          -3.6623833179473877,
          -27.453588485717773,
          -5.954423427581787,
          -8.259637832641602,
          15.051151275634766,
          -6.384177207946777,
          -9.77757453918457,
          -0.7809552550315857,
          -7.34519100189209,
          -10.270648002624512,
          -3.126593828201294,
          -3.0856382846832275,
          -1.6624869108200073,
          -10.494165420532227,
          -12.494755744934082,
          -4.323014259338379,
          -11.677253723144531,
          -4.014666557312012,
          -9.638009071350098,
          -9.083243370056152,
          -5.9777021408081055,
          -7.864527225494385,
          -12.781906127929688,
          -10.053022384643555,
          -4.044351100921631,
          -1.7837697267532349,
          -8.978513717651367,
          -18.091354370117188,
          -11.41675853729248,
          -9.02165699005127,
          -4.301855087280273,
          -0.5967367887496948,
          -3.8509042263031006,
          -11.662576675415039,
          -13.806385040283203,
          -10.830046653747559,
          -3.2799975872039795,
          -48.79560470581055,
          -2.8826446533203125,
          -15.094822883605957,
          10.593985557556152,
          -11.538352012634277,
          -3.177729606628418,
          -3.3981335163116455,
          -2.0992255210876465,
          -11.97240924835205,
          4.702420711517334,
          8.670835494995117,
          -22.099775314331055,
          -12.111815452575684,
          -62.36531066894531,
          -3.542372226715088,
          -13.007098197937012,
          6.208920478820801,
          -30.5606689453125,
          -3.974571943283081,
          -23.33563804626465,
          30.247182846069336,
          -25.726930618286133,
          -7.269819259643555,
          4.616689205169678,
          6.114502429962158,
          -8.990458488464355,
          -11.802414894104004,
          -3.904094934463501,
          -9.394235610961914,
          -10.303447723388672,
          -11.160627365112305,
          -8.959331512451172,
          -8.797542572021484,
          -3.467710494995117,
          -8.941667556762695,
          -13.891925811767578,
          -11.793448448181152,
          -8.01640510559082,
          1.4409383535385132,
          4.421728610992432,
          -8.03970718383789,
          -15.481762886047363,
          -8.488434791564941,
          -5.90969705581665,
          23.932353973388672,
          -4.243325233459473,
          -11.55594253540039,
          18.839107513427734,
          -3.3401265144348145,
          -4.198817253112793,
          3.7507519721984863,
          -2.560654878616333,
          -6.514578819274902,
          -10.220353126525879,
          -3.9821267127990723,
          -5.97105073928833,
          -3.074267864227295,
          -8.622537612915039,
          -14.035152435302734,
          -5.495728969573975,
          1.1054272651672363,
          -11.5606689453125,
          -10.614876747131348,
          -11.596630096435547,
          7.711359977722168,
          -11.835643768310547,
          -19.041908264160156,
          -23.399019241333008,
          -4.103579044342041,
          -11.967801094055176,
          -7.609930038452148,
          -11.802109718322754,
          19.057207107543945,
          -3.4545998573303223,
          -11.878936767578125,
          -4.929780006408691,
          -10.24901008605957,
          -0.42343568801879883,
          -12.6024169921875,
          1.7831060886383057,
          -9.752108573913574,
          -10.525531768798828,
          -13.722709655761719,
          -9.531966209411621,
          6.802062034606934,
          -12.011749267578125,
          -9.24704647064209,
          1.3073160648345947,
          -6.928445816040039,
          -10.491809844970703,
          19.284616470336914,
          -6.726260185241699,
          1.0019384622573853,
          -16.614421844482422,
          -3.569491386413574,
          -4.032349109649658,
          -13.626910209655762,
          -6.694422721862793,
          -15.765023231506348,
          -12.380339622497559,
          0.6722625494003296,
          -5.841449737548828,
          0.11653947830200195,
          -0.5855525732040405,
          -15.660859107971191,
          -3.9160332679748535,
          -8.136845588684082,
          -4.8267292976379395,
          8.696599960327148,
          -3.448615550994873,
          -12.372320175170898,
          4.924008369445801,
          -10.86431884765625,
          -4.528931140899658,
          -12.452662467956543,
          -12.119436264038086,
          -15.137898445129395,
          -1.378286600112915,
          -0.6800710558891296,
          -7.1659040451049805,
          13.123333930969238,
          -15.556943893432617,
          -9.263157844543457,
          -9.747085571289062,
          -12.949604034423828,
          -1.333675742149353,
          -5.0017828941345215
         ],
         "y": [
          -6.43548583984375,
          2.407278060913086,
          -2.3114428520202637,
          1.1690785884857178,
          2.8505561351776123,
          5.049492359161377,
          -8.938796043395996,
          -10.495055198669434,
          -6.306124210357666,
          15.661083221435547,
          22.24504280090332,
          17.64095115661621,
          -30.016056060791016,
          -28.783246994018555,
          -31.77392578125,
          10.005499839782715,
          4.837669849395752,
          10.346963882446289,
          -33.14466857910156,
          -32.135353088378906,
          -27.176698684692383,
          13.709748268127441,
          14.53269100189209,
          14.938127517700195,
          -26.726844787597656,
          -20.909746170043945,
          -22.09980583190918,
          8.354079246520996,
          5.089136123657227,
          6.070858955383301,
          -22.004920959472656,
          -21.32697868347168,
          -25.035289764404297,
          6.635677814483643,
          9.01674747467041,
          8.084930419921875,
          -22.077138900756836,
          -22.457679748535156,
          -19.737083435058594,
          14.410989761352539,
          13.753931045532227,
          11.452177047729492,
          -31.09440040588379,
          -35.660972595214844,
          -29.552404403686523,
          11.679605484008789,
          19.79950714111328,
          6.713464736938477,
          -35.2773551940918,
          -24.24672508239746,
          -31.83953285217285,
          11.02982234954834,
          15.286239624023438,
          -2.320728302001953,
          -17.754789352416992,
          -25.250741958618164,
          13.954047203063965,
          3.8966071605682373,
          4.195965766906738,
          7.855921268463135,
          -29.233184814453125,
          -15.212616920471191,
          42.093475341796875,
          13.65660572052002,
          4.392843246459961,
          10.791516304016113,
          -0.061122551560401917,
          -0.9102112054824829,
          -64.45655059814453,
          -6.066026210784912,
          -6.280838966369629,
          -107.99968719482422,
          -12.947554588317871,
          -14.914340019226074,
          18.867855072021484,
          -12.563277244567871,
          -10.069604873657227,
          78.88078308105469,
          -8.246274948120117,
          -12.0806303024292,
          -15.341466903686523,
          -17.977386474609375,
          -14.166757583618164,
          -8.289337158203125,
          -11.605152130126953,
          -8.711167335510254,
          -16.036672592163086,
          -14.142048835754395,
          -10.067325592041016,
          -7.802587032318115,
          2.2806081771850586,
          -9.646733283996582,
          1.7025057077407837,
          2.2429635524749756,
          6.1545844078063965,
          9.515521049499512,
          -6.555386543273926,
          -17.662517547607422,
          -11.428832054138184,
          -5.140532970428467,
          -0.03682509437203407,
          1.7677596807479858,
          25.50995445251465,
          -1.6356276273727417,
          -2.470381736755371,
          -35.772579193115234,
          -5.614419937133789,
          -23.642671585083008,
          -90.64208984375,
          -2.665159225463867,
          -22.238422393798828,
          15.99105453491211,
          5.751885414123535,
          -6.599754810333252,
          138.35699462890625,
          18.432392120361328,
          14.798810005187988,
          -6.940295696258545,
          -32.3325309753418,
          147.33953857421875,
          -40.42677307128906,
          -41.846622467041016,
          54.19202423095703,
          92.2934341430664,
          45.75609588623047,
          -96.38093566894531,
          9.472846984863281,
          91.16828155517578,
          -103.43856048583984,
          -84.36479187011719,
          25.249582290649414,
          28.715835571289062,
          -8.022765159606934,
          -91.0800552368164,
          76.40068817138672,
          103.4062271118164,
          -109.84306335449219,
          -33.38544845581055,
          34.679752349853516,
          -5.278840065002441,
          -46.24174880981445,
          -76.069580078125,
          174.2855987548828,
          3.2291953563690186,
          60.05944061279297,
          63.240665435791016,
          -39.95937728881836,
          94.05834197998047,
          -99.5501708984375,
          2.1881518363952637,
          -103.65648651123047,
          -114.08235931396484,
          144.52574157714844,
          -113.30242156982422,
          35.04460906982422,
          41.672271728515625,
          15.806021690368652,
          86.66437530517578,
          -93.90235137939453,
          144.1529541015625,
          -34.9817008972168,
          -45.541141510009766,
          16.494922637939453,
          -74.67496490478516,
          87.6518783569336,
          -94.05711364746094,
          -21.159818649291992,
          -80.19408416748047,
          4.787797451019287,
          -8.615863800048828,
          -114.60916900634766,
          92.1943359375,
          39.643768310546875,
          -4.56456184387207,
          -20.060380935668945,
          137.58255004882812,
          169.83251953125,
          -71.8306884765625,
          62.18727111816406,
          63.30545425415039,
          26.674604415893555,
          -99.70215606689453,
          -98.66737365722656,
          24.641647338867188,
          -113.519287109375,
          -103.05435943603516,
          -10.5336275100708,
          -5.239388465881348,
          29.86540412902832,
          2.9532337188720703,
          164.1872100830078,
          69.1803970336914,
          10.453422546386719,
          40.54747772216797,
          -54.68686294555664,
          -33.94838333129883,
          -89.78465270996094,
          -12.65398120880127,
          -29.173019409179688,
          -7.018346786499023,
          155.83139038085938,
          1.989800214767456,
          89.33267211914062,
          45.437557220458984,
          96.12923431396484,
          68.72056579589844,
          -95.28546142578125,
          53.92540740966797,
          -36.726051330566406,
          -14.160698890686035,
          -104.34873962402344,
          -66.71382141113281,
          68.19406127929688,
          -111.19465637207031,
          -4.828097343444824,
          -33.73303985595703,
          17.273181915283203,
          4.429311752319336,
          -37.430240631103516,
          144.99537658691406,
          2.958199977874756,
          65.9783706665039,
          3.2352371215820312,
          39.9222412109375,
          54.91157531738281,
          -36.54883575439453,
          43.37882995605469,
          -77.10755157470703,
          70.87109375,
          -62.87064743041992,
          -25.862037658691406,
          -20.599088668823242,
          -86.45928955078125,
          38.20307159423828,
          -53.4248046875,
          34.043365478515625,
          30.339923858642578,
          20.980812072753906,
          115.61729431152344,
          -28.957530975341797,
          76.54273223876953,
          -64.06094360351562,
          24.788394927978516,
          -38.42290115356445,
          -128.21286010742188,
          7.956685543060303,
          -99.3456802368164,
          5.382007598876953,
          -83.591552734375,
          -8.016380310058594,
          173.8389892578125,
          38.78334045410156,
          112.69060516357422,
          36.70279312133789,
          105.16912078857422,
          10.424616813659668,
          -83.4450454711914,
          -91.92597198486328,
          -59.82478332519531,
          -3.8554012775421143,
          -109.232177734375,
          -35.680450439453125,
          42.778682708740234,
          3.211529016494751,
          58.54262924194336,
          -0.0879053995013237,
          161.4087677001953,
          88.3184814453125,
          -24.366743087768555,
          60.93981170654297,
          13.385383605957031,
          -47.799835205078125,
          -98.51426696777344,
          -93.52452087402344,
          11.93601131439209,
          -116.37254333496094,
          -116.07544708251953,
          37.17664337158203,
          6.627194404602051,
          13.020729064941406,
          -50.19670104980469,
          176.71713256835938,
          157.27188110351562,
          16.197601318359375,
          51.01482009887695,
          15.394184112548828,
          69.58068084716797,
          -81.25077056884766,
          -64.88713073730469,
          -33.09490203857422,
          -39.35292053222656,
          68.2217788696289,
          -38.748207092285156,
          1.0201414823532104,
          67.12635803222656,
          60.50536346435547,
          -10.952296257019043,
          -39.292728424072266,
          104.55155181884766,
          -2.4668221473693848,
          -66.3694076538086,
          -57.6189079284668,
          21.769725799560547,
          79.92733001708984,
          -109.98213195800781,
          11.817670822143555,
          85.67183685302734,
          31.515153884887695,
          -21.683008193969727,
          -101.43685913085938,
          94.87983703613281,
          -37.76683044433594,
          -115.9205093383789,
          -38.136695861816406,
          20.169029235839844,
          26.492876052856445,
          -50.74314880371094,
          57.30183410644531,
          77.16148376464844,
          -4.647558212280273,
          -26.48151969909668,
          -29.752897262573242,
          -10.987410545349121,
          -59.866065979003906,
          -26.311861038208008,
          55.70722579956055,
          -39.910011291503906,
          16.0651798248291,
          112.64169311523438,
          -55.99370193481445,
          -52.842979431152344,
          -87.25363159179688,
          25.358266830444336,
          19.95104217529297,
          -122.40576171875,
          167.2875213623047,
          63.52986145019531,
          2.9165124893188477,
          38.74959945678711,
          -29.759586334228516,
          174.9781951904297,
          -94.3824691772461,
          -35.20693588256836,
          56.28129196166992,
          27.691722869873047,
          48.44852066040039,
          -93.56868743896484,
          106.60052490234375,
          -19.96942138671875,
          -65.50230407714844,
          -88.38127899169922,
          -65.39353942871094,
          51.68045425415039,
          -113.76244354248047,
          17.497814178466797,
          34.607601165771484,
          1.719413161277771,
          114.97914123535156,
          40.34745788574219,
          86.09574890136719,
          27.985166549682617,
          -103.8285140991211,
          66.43191528320312,
          -54.092933654785156,
          -112.30480194091797,
          27.634172439575195,
          33.51445007324219,
          24.270219802856445,
          -94.7681884765625,
          -33.06401824951172,
          101.46305847167969,
          -117.70813751220703,
          -13.974907875061035,
          -29.771270751953125,
          -7.372715950012207,
          52.111412048339844,
          9.320962905883789,
          177.025390625,
          -26.540302276611328,
          1.7040995359420776,
          68.54325103759766,
          -50.39658737182617,
          -59.459815979003906,
          -103.89996337890625,
          26.60048484802246,
          -3.049967050552368,
          -115.3293685913086,
          85.44278717041016,
          24.410024642944336,
          15.544419288635254,
          -37.62360763549805,
          24.219327926635742,
          165.26617431640625,
          -102.3382797241211,
          13.018269538879395,
          44.43286895751953,
          -9.467673301696777,
          -30.952526092529297,
          -72.17200469970703,
          112.7737045288086,
          -27.563159942626953,
          -40.77608871459961,
          56.18179702758789,
          -29.016630172729492,
          -28.045625686645508,
          -57.70552062988281,
          44.515281677246094,
          69.90369415283203,
          -110.48764038085938,
          95.02924346923828,
          107.5849380493164,
          25.129552841186523,
          8.205527305603027,
          -87.14776611328125,
          71.01750946044922,
          -92.25719451904297,
          -105.60887908935547,
          -32.608917236328125,
          -23.12945556640625,
          65.47022247314453,
          -36.65644454956055,
          138.4141387939453,
          76.41017150878906,
          5.495635986328125,
          73.08602905273438,
          -73.50691223144531,
          38.81414794921875,
          -103.32405853271484,
          -5.547623157501221,
          -22.59017562866211,
          -116.65846252441406,
          49.1110954284668,
          -29.55422592163086,
          5.5370612144470215,
          -20.967830657958984,
          51.46489334106445,
          174.48379516601562,
          -26.940807342529297,
          108.53306579589844,
          57.994876861572266,
          67.14035034179688,
          -53.425411224365234,
          -98.34861755371094,
          -39.79679870605469,
          -103.89553833007812,
          -71.00548553466797,
          -95.13375091552734,
          1.8071908950805664,
          73.15164184570312,
          4.4904069900512695,
          59.6645393371582,
          4.692151069641113,
          101.9139404296875,
          -10.179327011108398,
          -36.871036529541016,
          4.348283290863037,
          -6.0898213386535645,
          -35.67499923706055,
          -88.7169418334961,
          -11.815067291259766,
          40.77714538574219,
          -0.22958242893218994,
          -57.23904037475586,
          101.57649230957031,
          113.95862579345703,
          -2.9129855632781982,
          -52.28609085083008,
          59.80146408081055,
          23.401193618774414,
          -112.587890625,
          -87.9371109008789,
          19.707374572753906,
          -13.874037742614746,
          -106.96725463867188,
          -53.568721771240234,
          175.4187774658203,
          9.92148494720459,
          -1.7693226337432861,
          44.392887115478516,
          77.09553527832031,
          64.1253890991211,
          -98.30149841308594,
          -16.667282104492188,
          -0.16820630431175232,
          9.434233665466309,
          -34.66792678833008,
          -69.98717498779297,
          99.94662475585938,
          46.294105529785156,
          26.38550567626953,
          -62.591590881347656,
          14.174408912658691,
          70.498779296875,
          -115.03850555419922,
          -73.67060852050781,
          -31.856182098388672,
          0.6623960137367249,
          -100.36811828613281,
          -46.67464065551758,
          69.1429672241211,
          3.2614803314208984,
          7.212746620178223,
          -31.761363983154297,
          178.3749237060547,
          54.13862991333008,
          7.870571613311768,
          51.17744064331055,
          11.407455444335938,
          76.12799072265625,
          -101.6708755493164,
          -36.92454147338867,
          -37.50642013549805,
          -94.9100112915039,
          -92.91165161132812,
          -26.854694366455078,
          64.48462677001953,
          -6.635601043701172,
          11.595641136169434,
          90.39984893798828,
          111.61164855957031,
          -66.48100280761719,
          -100.05355834960938,
          13.533066749572754,
          3.6889383792877197,
          -115.74857330322266,
          -62.563419342041016,
          105.39411163330078,
          -5.774884223937988,
          -0.447498083114624,
          63.3626708984375,
          181.23495483398438,
          58.37925720214844,
          -66.54802703857422,
          66.90518951416016,
          24.53751564025879,
          -110.45040130615234,
          -99.59052276611328,
          -30.52751350402832,
          -0.41954371333122253,
          -112.46572875976562,
          -41.420101165771484,
          95.80174255371094,
          9.974761962890625,
          47.39376449584961,
          6.466004371643066,
          98.07311248779297,
          65.19284057617188,
          -57.133480072021484,
          7.019188404083252,
          -64.9593734741211,
          13.09857177734375,
          -69.85285186767578,
          -17.894229888916016,
          -20.77853775024414,
          -1.7154353857040405,
          14.516268730163574,
          -5.769003391265869,
          65.48574829101562,
          -59.580467224121094,
          43.6486701965332,
          -19.671606063842773,
          -0.5293684601783752,
          -23.685810089111328,
          -31.04253578186035,
          76.79532623291016,
          -95.8167953491211,
          79.97626495361328,
          -21.211576461791992,
          -12.39896297454834,
          -18.481731414794922,
          -24.324787139892578,
          137.26425170898438,
          -90.54182434082031,
          49.99713897705078,
          31.008472442626953,
          10.350081443786621,
          -61.962154388427734,
          -71.61360168457031,
          64.5801773071289,
          -122.55618286132812,
          -10.959935188293457,
          -34.312225341796875,
          20.261566162109375,
          -24.19000816345215,
          19.36737060546875,
          101.19898223876953,
          -7.129284381866455,
          5.340765476226807,
          -25.292312622070312,
          94.37056732177734,
          -89.58794403076172,
          -49.84543991088867,
          42.30693435668945,
          -16.7089786529541,
          29.184179306030273,
          -37.68348693847656,
          185.05276489257812,
          74.74242401123047,
          -28.940746307373047,
          61.33485412597656,
          -34.917903900146484,
          4.80937385559082,
          -106.1255874633789,
          -34.836639404296875,
          20.598846435546875,
          -109.97409057617188,
          -16.897340774536133,
          26.427217483520508,
          31.145227432250977,
          -37.486019134521484,
          -14.983150482177734,
          102.2623291015625,
          44.75315475463867,
          -38.10002136230469,
          -58.049354553222656,
          100.49415588378906,
          -12.5367431640625,
          -113.19963073730469,
          -25.142213821411133,
          30.963829040527344,
          18.596466064453125,
          -79.34838104248047,
          26.538131713867188,
          75.68204498291016,
          -56.61539077758789,
          -37.717872619628906,
          -45.2708854675293,
          14.136369705200195,
          -1.9835002422332764,
          -78.4655990600586,
          170.78662109375,
          46.048038482666016,
          20.425325393676758,
          46.193599700927734,
          -19.574573516845703,
          82.46802520751953,
          -101.45386505126953,
          -38.7792854309082,
          -10.080119132995605,
          -88.95516967773438,
          -34.2298698425293,
          -81.48241424560547,
          12.937036514282227,
          16.17371940612793,
          -92.5029067993164,
          156.669921875,
          88.94202423095703,
          35.527259826660156,
          44.276790618896484,
          12.372310638427734,
          107.44136047363281,
          -91.47928619384766,
          -76.13004302978516,
          -52.79794692993164,
          -5.838947296142578,
          -0.38102075457572937,
          -122.45580291748047,
          95.05998229980469,
          59.12202072143555,
          -3.875361204147339,
          7.233559608459473,
          43.4588508605957,
          101.34944152832031,
          -48.51652908325195,
          -33.37970733642578,
          -17.887392044067383,
          25.838909149169922,
          -30.743751525878906,
          -73.55680847167969,
          -35.99108123779297,
          15.501312255859375,
          38.10043716430664,
          -70.61869049072266,
          6.175313472747803,
          91.5901870727539,
          45.224639892578125,
          -34.358829498291016,
          -28.06713104248047,
          81.6751708984375,
          9.999082565307617,
          -31.50385093688965,
          -31.4632511138916,
          73.49149322509766,
          -4.249912261962891,
          -8.360390663146973,
          -25.95688819885254,
          3.1347243785858154,
          -30.942411422729492,
          -54.910797119140625,
          -20.533056259155273,
          -13.193717002868652,
          0.84055495262146,
          47.97943878173828,
          56.81288146972656,
          17.264575958251953,
          73.75659942626953,
          -40.63370895385742,
          19.301307678222656,
          -64.9542465209961,
          -99.370849609375,
          -41.261131286621094,
          -124.58345031738281,
          14.020829200744629,
          -28.68985939025879,
          -15.102514266967773,
          60.864505767822266,
          68.15727996826172,
          137.69821166992188,
          -29.375091552734375,
          84.24187469482422,
          18.10693359375,
          -34.31637954711914,
          -36.69188690185547,
          -71.65193176269531,
          19.354887008666992,
          -34.402374267578125,
          52.325714111328125,
          63.381675720214844,
          21.032575607299805,
          88.11195373535156,
          -32.964595794677734,
          67.85148620605469,
          -102.0593032836914,
          -95.60489654541016,
          -40.59234619140625,
          -107.72080993652344,
          -2.59336519241333,
          -98.43574523925781,
          31.486143112182617,
          131.47610473632812,
          16.452434539794922,
          77.44373321533203,
          11.656145095825195,
          72.95524597167969,
          -29.440208435058594,
          -91.2020034790039,
          -16.34554100036621,
          -29.048070907592773,
          -0.41682252287864685,
          -48.091182708740234,
          39.06019592285156,
          87.44281005859375,
          -23.326553344726562,
          -13.970052719116211,
          10.38656234741211,
          22.0684814453125,
          -27.875778198242188,
          -46.02285385131836,
          26.98255729675293,
          -5.094148635864258,
          31.978527069091797,
          -32.47771072387695,
          51.05017852783203,
          -37.72332000732422,
          -29.192058563232422,
          94.21422576904297,
          -103.3971176147461,
          -23.077472686767578,
          -90.11172485351562,
          6.899946212768555,
          67.2635726928711,
          -117.8952407836914,
          181.19593811035156,
          -8.369266510009766,
          -7.551662921905518,
          37.722007751464844,
          -28.958206176757812,
          106.77790832519531,
          -97.32626342773438,
          48.85885238647461,
          49.589500427246094,
          -2.340902328491211,
          -17.065444946289062,
          -7.230907917022705,
          101.63362884521484,
          -22.574277877807617,
          -84.96521759033203,
          5.009725093841553,
          -21.129016876220703,
          -95.64598083496094,
          -78.39823913574219,
          18.42637825012207,
          6.701404571533203,
          5.902174949645996,
          26.344013214111328,
          169.75579833984375,
          76.1217269897461,
          -47.44139099121094,
          36.967308044433594,
          43.124176025390625,
          4.306941986083984,
          -88.51875305175781,
          -67.44322204589844,
          63.93232345581055,
          -5.703139305114746,
          -4.036643028259277,
          -30.866329193115234,
          65.70120239257812,
          58.74578857421875,
          -63.66939926147461
         ],
         "z": [
          0.5321448445320129,
          0.6405353546142578,
          2.585052728652954,
          0.9779451489448547,
          -2.45986008644104,
          1.3219025135040283,
          14.695226669311523,
          14.260189056396484,
          12.009247779846191,
          -24.112642288208008,
          -20.007083892822266,
          -22.979162216186523,
          1.0271846055984497,
          -4.931277751922607,
          0.6508042216300964,
          -15.924833297729492,
          -11.028382301330566,
          -14.340737342834473,
          3.565148115158081,
          6.8737969398498535,
          5.7377448081970215,
          -17.743696212768555,
          -10.48696517944336,
          -17.822351455688477,
          0.6202954053878784,
          -3.848782539367676,
          -0.012289216741919518,
          -8.339800834655762,
          -6.494672775268555,
          -10.83374309539795,
          2.6154561042785645,
          4.857967853546143,
          4.710048675537109,
          -14.596419334411621,
          -13.49609375,
          -11.554767608642578,
          6.888979434967041,
          5.029232501983643,
          5.751009464263916,
          -16.748197555541992,
          -17.023021697998047,
          -17.183673858642578,
          2.685342311859131,
          4.209979057312012,
          5.759250640869141,
          -19.869064331054688,
          -16.624711990356445,
          -27.019813537597656,
          4.7019944190979,
          2.1173694133758545,
          5.16654634475708,
          0.18402448296546936,
          -7.037609577178955,
          33.55427932739258,
          6.840540409088135,
          -2.862100124359131,
          3.413440227508545,
          -9.296834945678711,
          0.7602217197418213,
          16.693559646606445,
          11.157271385192871,
          15.216854095458984,
          -14.362319946289062,
          8.607990264892578,
          2.3662326335906982,
          -25.052291870117188,
          0.7282254695892334,
          2.1115665435791016,
          -56.27961349487305,
          8.954109191894531,
          7.095958709716797,
          36.638885498046875,
          12.01214599609375,
          10.637965202331543,
          110.33811950683594,
          9.149186134338379,
          10.679759979248047,
          -26.675289154052734,
          8.817383766174316,
          11.377792358398438,
          -8.206314086914062,
          12.793684959411621,
          13.297945022583008,
          9.202566146850586,
          6.322783946990967,
          9.739130973815918,
          8.135048866271973,
          18.076475143432617,
          7.1139607429504395,
          14.87709903717041,
          13.28068733215332,
          9.154258728027344,
          8.986061096191406,
          -10.664216995239258,
          -18.85675048828125,
          -20.30135154724121,
          -30.108591079711914,
          -2.9686925411224365,
          -8.166345596313477,
          0.3005741536617279,
          3.432931661605835,
          1.0749019384384155,
          -16.382734298706055,
          -1.5864315032958984,
          -18.713411331176758,
          -48.23732376098633,
          7.481078147888184,
          -6.633594989776611,
          13.741668701171875,
          -1.6644818782806396,
          6.1171770095825195,
          123.11438751220703,
          3.2472448348999023,
          14.451702117919922,
          -30.710468292236328,
          -14.07669448852539,
          62.48076629638672,
          -63.063743591308594,
          -25.34765625,
          -23.165464401245117,
          44.83631134033203,
          19.6021728515625,
          -86.20467376708984,
          22.615436553955078,
          51.7004280090332,
          -75.12726593017578,
          -67.20348358154297,
          -32.76219177246094,
          41.1245231628418,
          -7.212307929992676,
          -52.68162155151367,
          101.88497924804688,
          102.97608184814453,
          -73.45391082763672,
          -33.50746536254883,
          10.713666915893555,
          31.580307006835938,
          -47.746131896972656,
          -68.092041015625,
          148.70692443847656,
          11.008488655090332,
          0.8149526715278625,
          -9.23830509185791,
          -0.8303786516189575,
          50.392005920410156,
          -84.61068725585938,
          -2.568281650543213,
          -62.84169006347656,
          -82.08797454833984,
          79.50301361083984,
          -98.56568908691406,
          37.61185073852539,
          -12.698390007019043,
          36.86618423461914,
          97.22698974609375,
          -74.40229797363281,
          125.64253997802734,
          -32.22443389892578,
          -57.539669036865234,
          -13.298888206481934,
          -65.34184265136719,
          61.958187103271484,
          -75.52140045166016,
          -8.362364768981934,
          -9.420973777770996,
          -3.2707929611206055,
          28.935012817382812,
          -100.95931243896484,
          98.4451675415039,
          29.64467430114746,
          26.589548110961914,
          -1.0437089204788208,
          72.12075805664062,
          152.74288940429688,
          -63.84624481201172,
          -20.816402435302734,
          -8.795013427734375,
          4.221686363220215,
          -76.51375579833984,
          -79.49344635009766,
          43.0073356628418,
          -82.79003143310547,
          -78.22332763671875,
          -22.224647521972656,
          32.65517807006836,
          41.07841110229492,
          -4.050228595733643,
          132.0487060546875,
          104.6344985961914,
          15.033429145812988,
          2.5415713787078857,
          -44.75544357299805,
          -23.98764419555664,
          -77.62772369384766,
          -13.406492233276367,
          -0.6908223628997803,
          -35.36274337768555,
          102.962890625,
          -0.4058334231376648,
          89.07144165039062,
          -8.04941177368164,
          61.44437026977539,
          23.96470832824707,
          -79.08121490478516,
          4.4604973793029785,
          -48.46467208862305,
          -44.50586700439453,
          -73.43132781982422,
          -66.50462341308594,
          75.20675659179688,
          -92.48136901855469,
          -0.412539005279541,
          -23.502225875854492,
          42.81431198120117,
          23.4050350189209,
          -25.222537994384766,
          134.38526916503906,
          15.437722206115723,
          33.36409378051758,
          -30.043018341064453,
          18.30548667907715,
          22.05841064453125,
          -63.51826477050781,
          -7.215500354766846,
          -57.828468322753906,
          32.67018508911133,
          -33.04793167114258,
          -45.21895980834961,
          6.800762176513672,
          -72.66854858398438,
          37.69017028808594,
          -51.47686004638672,
          7.533489227294922,
          35.071632385253906,
          9.333989143371582,
          83.45642852783203,
          -30.190494537353516,
          58.77653121948242,
          -33.323326110839844,
          -4.408394813537598,
          -20.437231063842773,
          -101.96971130371094,
          38.45820236206055,
          -63.31696701049805,
          27.64492416381836,
          -50.82886505126953,
          -4.67387580871582,
          137.45269775390625,
          11.679947853088379,
          113.03731536865234,
          -17.821374893188477,
          83.48240661621094,
          13.796215057373047,
          -71.52825164794922,
          -50.130767822265625,
          -71.3831787109375,
          -37.869686126708984,
          -106.80583953857422,
          -8.058577537536621,
          50.526123046875,
          39.39561080932617,
          41.021240234375,
          -2.370245933532715,
          130.2150115966797,
          48.7432975769043,
          -23.515731811523438,
          -13.640298843383789,
          -34.79703903198242,
          -18.93610954284668,
          -81.62262725830078,
          -50.330177307128906,
          8.283026695251465,
          -87.6412124633789,
          -70.77176666259766,
          58.405059814453125,
          38.676090240478516,
          37.987709045410156,
          -39.47232437133789,
          134.41795349121094,
          130.66404724121094,
          3.7431886196136475,
          -9.692388534545898,
          -30.654104232788086,
          60.5871467590332,
          -79.28600311279297,
          -73.12541198730469,
          -41.52793884277344,
          -58.21040725708008,
          20.45685386657715,
          -35.14567947387695,
          28.741487503051758,
          41.073204040527344,
          29.22835922241211,
          14.6507568359375,
          -54.26205062866211,
          43.46358871459961,
          1.387966513633728,
          -47.48064422607422,
          -46.182376861572266,
          18.14751625061035,
          29.2447452545166,
          -88.87963104248047,
          18.05447006225586,
          46.29401779174805,
          15.11185359954834,
          -23.967729568481445,
          -73.33765411376953,
          89.24557495117188,
          -17.383594512939453,
          -95.37202453613281,
          -28.2006778717041,
          20.840097427368164,
          42.003116607666016,
          -67.81830596923828,
          17.572237014770508,
          108.81693267822266,
          -0.0973174124956131,
          -14.077083587646484,
          -32.19321060180664,
          13.811884880065918,
          -62.18925094604492,
          -30.58208656311035,
          17.954620361328125,
          -8.804919242858887,
          25.312253952026367,
          38.91252136230469,
          0.687429666519165,
          -23.522008895874023,
          -53.57198715209961,
          33.33381271362305,
          -2.2879436016082764,
          -110.82013702392578,
          130.94923400878906,
          58.93721389770508,
          34.43582534790039,
          -20.586349487304688,
          -25.944168090820312,
          143.23377990722656,
          -81.20423889160156,
          -36.80670928955078,
          -15.680582046508789,
          -42.10829544067383,
          15.740986824035645,
          -82.49671173095703,
          75.54281616210938,
          3.264765977859497,
          -60.67797088623047,
          -45.14159393310547,
          -34.568206787109375,
          50.65727233886719,
          -102.96315002441406,
          11.941089630126953,
          29.051929473876953,
          26.189008712768555,
          98.9273452758789,
          -27.753969192504883,
          108.51898193359375,
          -14.710577964782715,
          -46.21241760253906,
          24.020292282104492,
          -69.17848205566406,
          -90.9703598022461,
          -40.1768913269043,
          -4.754408359527588,
          36.84321594238281,
          -55.48165512084961,
          4.92899751663208,
          120.1024169921875,
          -78.60845184326172,
          -18.486406326293945,
          -34.058128356933594,
          30.354475021362305,
          28.024560928344727,
          -17.955705642700195,
          152.49807739257812,
          -3.23941707611084,
          -0.8498827219009399,
          -7.864635467529297,
          -33.454566955566406,
          -26.90451431274414,
          -82.83847045898438,
          18.843393325805664,
          -3.691394805908203,
          -87.40131378173828,
          69.02291107177734,
          35.886253356933594,
          38.635826110839844,
          -13.135364532470703,
          14.542558670043945,
          135.9808807373047,
          -71.92102813720703,
          6.447347164154053,
          -14.54279613494873,
          -7.546834468841553,
          -28.894615173339844,
          -77.94245910644531,
          105.079345703125,
          -10.778818130493164,
          -51.7011604309082,
          14.092954635620117,
          5.323092460632324,
          13.133281707763672,
          -56.32491683959961,
          25.479249954223633,
          39.52843475341797,
          -69.41903686523438,
          61.393943786621094,
          34.05109786987305,
          20.398406982421875,
          -33.58268356323242,
          -52.389469146728516,
          102.89707946777344,
          -65.96300506591797,
          -108.06767272949219,
          -25.094552993774414,
          -28.953088760375977,
          39.28227233886719,
          -32.249820709228516,
          105.71661376953125,
          87.2469482421875,
          11.145813941955566,
          8.862203598022461,
          -59.53812789916992,
          34.944698333740234,
          -85.17900085449219,
          -40.40999984741211,
          -17.358261108398438,
          -88.65144348144531,
          34.766151428222656,
          -26.209068298339844,
          36.71354675292969,
          5.1191582679748535,
          16.059831619262695,
          138.99412536621094,
          -46.35625457763672,
          40.964073181152344,
          -18.742788314819336,
          26.539775848388672,
          -36.13865661621094,
          -78.39990234375,
          3.957516670227051,
          -90.86299133300781,
          -68.0672378540039,
          -65.11276245117188,
          5.489792823791504,
          60.32587814331055,
          -0.0347839817404747,
          90.64794158935547,
          25.337221145629883,
          105.94293975830078,
          -1.4197924137115479,
          -37.632713317871094,
          7.7613606452941895,
          -24.693065643310547,
          0.9060919284820557,
          -71.42999267578125,
          4.171604633331299,
          16.65582275390625,
          -8.073291778564453,
          -31.40953826904297,
          60.380126953125,
          105.18152618408203,
          7.931272506713867,
          -30.928253173828125,
          8.628198623657227,
          26.666141510009766,
          -89.7370834350586,
          -68.05377197265625,
          17.341224670410156,
          1.462502360343933,
          -78.59795379638672,
          -35.577327728271484,
          145.01376342773438,
          27.91055679321289,
          -1.6003427505493164,
          -10.559741020202637,
          108.0748291015625,
          27.51323127746582,
          -86.28411102294922,
          -4.187296390533447,
          1.700639247894287,
          -45.84261703491211,
          -38.95405960083008,
          -57.784732818603516,
          81.03057861328125,
          24.017061233520508,
          1.6023675203323364,
          -35.432533264160156,
          20.437725067138672,
          54.58567810058594,
          -94.78936767578125,
          -43.13521957397461,
          -19.662763595581055,
          20.498775482177734,
          -42.50218963623047,
          -41.72894287109375,
          100.70256805419922,
          36.68000411987305,
          4.568050861358643,
          -4.146330833435059,
          147.12594604492188,
          51.182884216308594,
          -22.901269912719727,
          -17.855140686035156,
          -19.09507179260254,
          49.65773010253906,
          -79.6993179321289,
          -34.6382942199707,
          -34.04389953613281,
          -65.68661499023438,
          -53.9217414855957,
          -49.40827178955078,
          47.88813018798828,
          -0.8026908040046692,
          16.83246421813965,
          89.0361557006836,
          108.00175476074219,
          -13.864749908447266,
          -67.58524322509766,
          4.701885223388672,
          0.4636085033416748,
          -90.76079559326172,
          -60.95916748046875,
          85.34732818603516,
          35.42555618286133,
          -1.49976646900177,
          12.962742805480957,
          151.0982208251953,
          54.99185562133789,
          -65.65633392333984,
          -13.29631233215332,
          8.476522445678711,
          -80.97110748291016,
          -85.05958557128906,
          -42.52458572387695,
          17.492719650268555,
          -87.90802001953125,
          -21.634111404418945,
          108.03599548339844,
          33.509422302246094,
          19.109148025512695,
          2.672170400619507,
          112.92317199707031,
          28.51571273803711,
          -62.75947570800781,
          3.868224859237671,
          -46.21299362182617,
          7.2629923820495605,
          -61.848758697509766,
          -43.84672927856445,
          23.5257511138916,
          -5.04170036315918,
          31.68680763244629,
          -4.035816192626953,
          65.1322021484375,
          -31.521320343017578,
          14.406103134155273,
          -5.836012840270996,
          -9.571709632873535,
          -2.511962890625,
          -31.698421478271484,
          87.80443572998047,
          -54.18439483642578,
          42.0444450378418,
          -6.792518138885498,
          -4.705410480499268,
          8.730179786682129,
          -31.88242530822754,
          115.27791595458984,
          -64.65293884277344,
          21.07001495361328,
          8.237107276916504,
          2.843599796295166,
          3.7265822887420654,
          -72.77989196777344,
          88.73489379882812,
          -92.84066009521484,
          -6.75372314453125,
          -26.021482467651367,
          30.89714813232422,
          18.190162658691406,
          -16.820079803466797,
          122.07947540283203,
          3.123011350631714,
          13.168262481689453,
          -31.00799560546875,
          73.76834106445312,
          -45.04319763183594,
          -34.622440338134766,
          15.6331205368042,
          -1.5701496601104736,
          17.41908073425293,
          -56.51593780517578,
          145.90277099609375,
          60.33189392089844,
          -25.700590133666992,
          -4.339237689971924,
          -27.433942794799805,
          8.726545333862305,
          -79.25907897949219,
          -44.3176383972168,
          18.701122283935547,
          -87.77896881103516,
          -0.9290459156036377,
          19.900238037109375,
          39.738887786865234,
          -4.741407871246338,
          -23.79183578491211,
          115.2516098022461,
          31.199325561523438,
          -19.388032913208008,
          -32.886863708496094,
          39.546669006347656,
          12.835796356201172,
          -79.99312591552734,
          -38.11281204223633,
          18.975168228149414,
          21.99201774597168,
          -72.39139556884766,
          40.54798126220703,
          104.16183471679688,
          -6.649158477783203,
          -35.32578659057617,
          -23.677959442138672,
          55.44487380981445,
          -5.262659072875977,
          -59.5782356262207,
          138.73040771484375,
          40.38896942138672,
          6.161550045013428,
          -20.53804588317871,
          -13.787542343139648,
          80.50748443603516,
          -73.85352325439453,
          -38.09293746948242,
          -33.74376678466797,
          -69.09732055664062,
          -3.9852962493896484,
          -51.6572380065918,
          37.04277420043945,
          16.320409774780273,
          -29.721834182739258,
          126.67777252197266,
          71.92644500732422,
          50.43791580200195,
          -4.760623455047607,
          2.6123507022857666,
          109.95203399658203,
          -82.57683563232422,
          -68.96207427978516,
          -40.59441375732422,
          -41.923072814941406,
          -3.0636165142059326,
          -84.87739562988281,
          91.17267608642578,
          53.70540237426758,
          14.20720100402832,
          9.671991348266602,
          17.238313674926758,
          115.5766830444336,
          -55.10797882080078,
          -43.63615798950195,
          -4.750471591949463,
          2.477692127227783,
          -24.1533260345459,
          -52.2344856262207,
          1.7026774883270264,
          18.82407569885254,
          13.353375434875488,
          -35.98447799682617,
          23.570697784423828,
          76.22713470458984,
          22.461952209472656,
          -27.851207733154297,
          -30.48445701599121,
          72.6246566772461,
          -3.039325714111328,
          -45.69844055175781,
          -43.144195556640625,
          67.16314697265625,
          4.682745456695557,
          -27.925067901611328,
          -27.442371368408203,
          23.869834899902344,
          -2.6975226402282715,
          -45.21742630004883,
          -11.08625602722168,
          -1.3697452545166016,
          5.226041316986084,
          17.448556900024414,
          19.05035972595215,
          24.40182876586914,
          29.330415725708008,
          2.902343988418579,
          13.912059783935547,
          -43.57489013671875,
          -69.32740020751953,
          -25.09931182861328,
          -96.31195831298828,
          10.61450481414795,
          -16.132280349731445,
          9.511106491088867,
          92.8310775756836,
          29.530506134033203,
          132.95176696777344,
          -18.396957397460938,
          38.84942626953125,
          9.011710166931152,
          -27.952495574951172,
          -47.04384994506836,
          -71.88162231445312,
          18.213563919067383,
          -48.46109390258789,
          5.260270118713379,
          27.067974090576172,
          14.862929344177246,
          43.55125045776367,
          -6.7694597244262695,
          32.01909255981445,
          -55.07377243041992,
          -69.0943603515625,
          -20.52847671508789,
          -96.20524597167969,
          2.513108253479004,
          -70.09870910644531,
          39.2360725402832,
          116.6390380859375,
          8.304259300231934,
          105.5593490600586,
          0.756969153881073,
          95.7850341796875,
          -40.93855285644531,
          -72.5221939086914,
          -9.446446418762207,
          -21.07451629638672,
          -4.927738666534424,
          -43.121768951416016,
          26.83912467956543,
          92.489990234375,
          -5.189398765563965,
          -4.1526312828063965,
          7.757523059844971,
          12.157491683959961,
          -18.180042266845703,
          -49.55093002319336,
          27.31683349609375,
          10.887306213378906,
          7.832594394683838,
          -31.276416778564453,
          28.126262664794922,
          11.513445854187012,
          -15.097808837890625,
          7.7690887451171875,
          -57.96051025390625,
          7.483558177947998,
          -50.64080047607422,
          20.44178009033203,
          40.936859130859375,
          -102.373291015625,
          147.04840087890625,
          9.054739952087402,
          19.8551082611084,
          -18.00346565246582,
          -41.36925506591797,
          112.23180389404297,
          -85.02119445800781,
          27.38705062866211,
          18.721702575683594,
          -29.53640365600586,
          3.806337833404541,
          -56.4501838684082,
          95.11888885498047,
          -31.158985137939453,
          -47.747215270996094,
          -2.7652814388275146,
          6.876880645751953,
          -47.93316650390625,
          -69.60387420654297,
          18.066797256469727,
          40.10458755493164,
          2.8667476177215576,
          19.29859733581543,
          132.86900329589844,
          74.31783294677734,
          -30.847728729248047,
          -10.829211235046387,
          -5.429933547973633,
          0.0718129575252533,
          -85.98110961914062,
          -53.64276885986328,
          33.31637191772461,
          -25.98636817932129,
          -34.65583419799805,
          -13.024032592773438,
          80.11780548095703,
          65.93119049072266,
          -53.1593017578125,
          22.16558265686035,
          -28.293123245239258,
          4.599935054779053
         ]
        }
       ],
       "layout": {
        "height": 700,
        "legend": {
         "tracegroupgap": 0
        },
        "margin": {
         "t": 60
        },
        "scene": {
         "domain": {
          "x": [
           0,
           1
          ],
          "y": [
           0,
           1
          ]
         },
         "xaxis": {
          "title": {
           "text": "x"
          }
         },
         "yaxis": {
          "title": {
           "text": "y"
          }
         },
         "zaxis": {
          "title": {
           "text": "z"
          }
         }
        },
        "template": {
         "data": {
          "bar": [
           {
            "error_x": {
             "color": "#2a3f5f"
            },
            "error_y": {
             "color": "#2a3f5f"
            },
            "marker": {
             "line": {
              "color": "#E5ECF6",
              "width": 0.5
             },
             "pattern": {
              "fillmode": "overlay",
              "size": 10,
              "solidity": 0.2
             }
            },
            "type": "bar"
           }
          ],
          "barpolar": [
           {
            "marker": {
             "line": {
              "color": "#E5ECF6",
              "width": 0.5
             },
             "pattern": {
              "fillmode": "overlay",
              "size": 10,
              "solidity": 0.2
             }
            },
            "type": "barpolar"
           }
          ],
          "carpet": [
           {
            "aaxis": {
             "endlinecolor": "#2a3f5f",
             "gridcolor": "white",
             "linecolor": "white",
             "minorgridcolor": "white",
             "startlinecolor": "#2a3f5f"
            },
            "baxis": {
             "endlinecolor": "#2a3f5f",
             "gridcolor": "white",
             "linecolor": "white",
             "minorgridcolor": "white",
             "startlinecolor": "#2a3f5f"
            },
            "type": "carpet"
           }
          ],
          "choropleth": [
           {
            "colorbar": {
             "outlinewidth": 0,
             "ticks": ""
            },
            "type": "choropleth"
           }
          ],
          "contour": [
           {
            "colorbar": {
             "outlinewidth": 0,
             "ticks": ""
            },
            "colorscale": [
             [
              0,
              "#0d0887"
             ],
             [
              0.1111111111111111,
              "#46039f"
             ],
             [
              0.2222222222222222,
              "#7201a8"
             ],
             [
              0.3333333333333333,
              "#9c179e"
             ],
             [
              0.4444444444444444,
              "#bd3786"
             ],
             [
              0.5555555555555556,
              "#d8576b"
             ],
             [
              0.6666666666666666,
              "#ed7953"
             ],
             [
              0.7777777777777778,
              "#fb9f3a"
             ],
             [
              0.8888888888888888,
              "#fdca26"
             ],
             [
              1,
              "#f0f921"
             ]
            ],
            "type": "contour"
           }
          ],
          "contourcarpet": [
           {
            "colorbar": {
             "outlinewidth": 0,
             "ticks": ""
            },
            "type": "contourcarpet"
           }
          ],
          "heatmap": [
           {
            "colorbar": {
             "outlinewidth": 0,
             "ticks": ""
            },
            "colorscale": [
             [
              0,
              "#0d0887"
             ],
             [
              0.1111111111111111,
              "#46039f"
             ],
             [
              0.2222222222222222,
              "#7201a8"
             ],
             [
              0.3333333333333333,
              "#9c179e"
             ],
             [
              0.4444444444444444,
              "#bd3786"
             ],
             [
              0.5555555555555556,
              "#d8576b"
             ],
             [
              0.6666666666666666,
              "#ed7953"
             ],
             [
              0.7777777777777778,
              "#fb9f3a"
             ],
             [
              0.8888888888888888,
              "#fdca26"
             ],
             [
              1,
              "#f0f921"
             ]
            ],
            "type": "heatmap"
           }
          ],
          "heatmapgl": [
           {
            "colorbar": {
             "outlinewidth": 0,
             "ticks": ""
            },
            "colorscale": [
             [
              0,
              "#0d0887"
             ],
             [
              0.1111111111111111,
              "#46039f"
             ],
             [
              0.2222222222222222,
              "#7201a8"
             ],
             [
              0.3333333333333333,
              "#9c179e"
             ],
             [
              0.4444444444444444,
              "#bd3786"
             ],
             [
              0.5555555555555556,
              "#d8576b"
             ],
             [
              0.6666666666666666,
              "#ed7953"
             ],
             [
              0.7777777777777778,
              "#fb9f3a"
             ],
             [
              0.8888888888888888,
              "#fdca26"
             ],
             [
              1,
              "#f0f921"
             ]
            ],
            "type": "heatmapgl"
           }
          ],
          "histogram": [
           {
            "marker": {
             "pattern": {
              "fillmode": "overlay",
              "size": 10,
              "solidity": 0.2
             }
            },
            "type": "histogram"
           }
          ],
          "histogram2d": [
           {
            "colorbar": {
             "outlinewidth": 0,
             "ticks": ""
            },
            "colorscale": [
             [
              0,
              "#0d0887"
             ],
             [
              0.1111111111111111,
              "#46039f"
             ],
             [
              0.2222222222222222,
              "#7201a8"
             ],
             [
              0.3333333333333333,
              "#9c179e"
             ],
             [
              0.4444444444444444,
              "#bd3786"
             ],
             [
              0.5555555555555556,
              "#d8576b"
             ],
             [
              0.6666666666666666,
              "#ed7953"
             ],
             [
              0.7777777777777778,
              "#fb9f3a"
             ],
             [
              0.8888888888888888,
              "#fdca26"
             ],
             [
              1,
              "#f0f921"
             ]
            ],
            "type": "histogram2d"
           }
          ],
          "histogram2dcontour": [
           {
            "colorbar": {
             "outlinewidth": 0,
             "ticks": ""
            },
            "colorscale": [
             [
              0,
              "#0d0887"
             ],
             [
              0.1111111111111111,
              "#46039f"
             ],
             [
              0.2222222222222222,
              "#7201a8"
             ],
             [
              0.3333333333333333,
              "#9c179e"
             ],
             [
              0.4444444444444444,
              "#bd3786"
             ],
             [
              0.5555555555555556,
              "#d8576b"
             ],
             [
              0.6666666666666666,
              "#ed7953"
             ],
             [
              0.7777777777777778,
              "#fb9f3a"
             ],
             [
              0.8888888888888888,
              "#fdca26"
             ],
             [
              1,
              "#f0f921"
             ]
            ],
            "type": "histogram2dcontour"
           }
          ],
          "mesh3d": [
           {
            "colorbar": {
             "outlinewidth": 0,
             "ticks": ""
            },
            "type": "mesh3d"
           }
          ],
          "parcoords": [
           {
            "line": {
             "colorbar": {
              "outlinewidth": 0,
              "ticks": ""
             }
            },
            "type": "parcoords"
           }
          ],
          "pie": [
           {
            "automargin": true,
            "type": "pie"
           }
          ],
          "scatter": [
           {
            "fillpattern": {
             "fillmode": "overlay",
             "size": 10,
             "solidity": 0.2
            },
            "type": "scatter"
           }
          ],
          "scatter3d": [
           {
            "line": {
             "colorbar": {
              "outlinewidth": 0,
              "ticks": ""
             }
            },
            "marker": {
             "colorbar": {
              "outlinewidth": 0,
              "ticks": ""
             }
            },
            "type": "scatter3d"
           }
          ],
          "scattercarpet": [
           {
            "marker": {
             "colorbar": {
              "outlinewidth": 0,
              "ticks": ""
             }
            },
            "type": "scattercarpet"
           }
          ],
          "scattergeo": [
           {
            "marker": {
             "colorbar": {
              "outlinewidth": 0,
              "ticks": ""
             }
            },
            "type": "scattergeo"
           }
          ],
          "scattergl": [
           {
            "marker": {
             "colorbar": {
              "outlinewidth": 0,
              "ticks": ""
             }
            },
            "type": "scattergl"
           }
          ],
          "scattermapbox": [
           {
            "marker": {
             "colorbar": {
              "outlinewidth": 0,
              "ticks": ""
             }
            },
            "type": "scattermapbox"
           }
          ],
          "scatterpolar": [
           {
            "marker": {
             "colorbar": {
              "outlinewidth": 0,
              "ticks": ""
             }
            },
            "type": "scatterpolar"
           }
          ],
          "scatterpolargl": [
           {
            "marker": {
             "colorbar": {
              "outlinewidth": 0,
              "ticks": ""
             }
            },
            "type": "scatterpolargl"
           }
          ],
          "scatterternary": [
           {
            "marker": {
             "colorbar": {
              "outlinewidth": 0,
              "ticks": ""
             }
            },
            "type": "scatterternary"
           }
          ],
          "surface": [
           {
            "colorbar": {
             "outlinewidth": 0,
             "ticks": ""
            },
            "colorscale": [
             [
              0,
              "#0d0887"
             ],
             [
              0.1111111111111111,
              "#46039f"
             ],
             [
              0.2222222222222222,
              "#7201a8"
             ],
             [
              0.3333333333333333,
              "#9c179e"
             ],
             [
              0.4444444444444444,
              "#bd3786"
             ],
             [
              0.5555555555555556,
              "#d8576b"
             ],
             [
              0.6666666666666666,
              "#ed7953"
             ],
             [
              0.7777777777777778,
              "#fb9f3a"
             ],
             [
              0.8888888888888888,
              "#fdca26"
             ],
             [
              1,
              "#f0f921"
             ]
            ],
            "type": "surface"
           }
          ],
          "table": [
           {
            "cells": {
             "fill": {
              "color": "#EBF0F8"
             },
             "line": {
              "color": "white"
             }
            },
            "header": {
             "fill": {
              "color": "#C8D4E3"
             },
             "line": {
              "color": "white"
             }
            },
            "type": "table"
           }
          ]
         },
         "layout": {
          "annotationdefaults": {
           "arrowcolor": "#2a3f5f",
           "arrowhead": 0,
           "arrowwidth": 1
          },
          "autotypenumbers": "strict",
          "coloraxis": {
           "colorbar": {
            "outlinewidth": 0,
            "ticks": ""
           }
          },
          "colorscale": {
           "diverging": [
            [
             0,
             "#8e0152"
            ],
            [
             0.1,
             "#c51b7d"
            ],
            [
             0.2,
             "#de77ae"
            ],
            [
             0.3,
             "#f1b6da"
            ],
            [
             0.4,
             "#fde0ef"
            ],
            [
             0.5,
             "#f7f7f7"
            ],
            [
             0.6,
             "#e6f5d0"
            ],
            [
             0.7,
             "#b8e186"
            ],
            [
             0.8,
             "#7fbc41"
            ],
            [
             0.9,
             "#4d9221"
            ],
            [
             1,
             "#276419"
            ]
           ],
           "sequential": [
            [
             0,
             "#0d0887"
            ],
            [
             0.1111111111111111,
             "#46039f"
            ],
            [
             0.2222222222222222,
             "#7201a8"
            ],
            [
             0.3333333333333333,
             "#9c179e"
            ],
            [
             0.4444444444444444,
             "#bd3786"
            ],
            [
             0.5555555555555556,
             "#d8576b"
            ],
            [
             0.6666666666666666,
             "#ed7953"
            ],
            [
             0.7777777777777778,
             "#fb9f3a"
            ],
            [
             0.8888888888888888,
             "#fdca26"
            ],
            [
             1,
             "#f0f921"
            ]
           ],
           "sequentialminus": [
            [
             0,
             "#0d0887"
            ],
            [
             0.1111111111111111,
             "#46039f"
            ],
            [
             0.2222222222222222,
             "#7201a8"
            ],
            [
             0.3333333333333333,
             "#9c179e"
            ],
            [
             0.4444444444444444,
             "#bd3786"
            ],
            [
             0.5555555555555556,
             "#d8576b"
            ],
            [
             0.6666666666666666,
             "#ed7953"
            ],
            [
             0.7777777777777778,
             "#fb9f3a"
            ],
            [
             0.8888888888888888,
             "#fdca26"
            ],
            [
             1,
             "#f0f921"
            ]
           ]
          },
          "colorway": [
           "#636efa",
           "#EF553B",
           "#00cc96",
           "#ab63fa",
           "#FFA15A",
           "#19d3f3",
           "#FF6692",
           "#B6E880",
           "#FF97FF",
           "#FECB52"
          ],
          "font": {
           "color": "#2a3f5f"
          },
          "geo": {
           "bgcolor": "white",
           "lakecolor": "white",
           "landcolor": "#E5ECF6",
           "showlakes": true,
           "showland": true,
           "subunitcolor": "white"
          },
          "hoverlabel": {
           "align": "left"
          },
          "hovermode": "closest",
          "mapbox": {
           "style": "light"
          },
          "paper_bgcolor": "white",
          "plot_bgcolor": "#E5ECF6",
          "polar": {
           "angularaxis": {
            "gridcolor": "white",
            "linecolor": "white",
            "ticks": ""
           },
           "bgcolor": "#E5ECF6",
           "radialaxis": {
            "gridcolor": "white",
            "linecolor": "white",
            "ticks": ""
           }
          },
          "scene": {
           "xaxis": {
            "backgroundcolor": "#E5ECF6",
            "gridcolor": "white",
            "gridwidth": 2,
            "linecolor": "white",
            "showbackground": true,
            "ticks": "",
            "zerolinecolor": "white"
           },
           "yaxis": {
            "backgroundcolor": "#E5ECF6",
            "gridcolor": "white",
            "gridwidth": 2,
            "linecolor": "white",
            "showbackground": true,
            "ticks": "",
            "zerolinecolor": "white"
           },
           "zaxis": {
            "backgroundcolor": "#E5ECF6",
            "gridcolor": "white",
            "gridwidth": 2,
            "linecolor": "white",
            "showbackground": true,
            "ticks": "",
            "zerolinecolor": "white"
           }
          },
          "shapedefaults": {
           "line": {
            "color": "#2a3f5f"
           }
          },
          "ternary": {
           "aaxis": {
            "gridcolor": "white",
            "linecolor": "white",
            "ticks": ""
           },
           "baxis": {
            "gridcolor": "white",
            "linecolor": "white",
            "ticks": ""
           },
           "bgcolor": "#E5ECF6",
           "caxis": {
            "gridcolor": "white",
            "linecolor": "white",
            "ticks": ""
           }
          },
          "title": {
           "x": 0.05
          },
          "xaxis": {
           "automargin": true,
           "gridcolor": "white",
           "linecolor": "white",
           "ticks": "",
           "title": {
            "standoff": 15
           },
           "zerolinecolor": "white",
           "zerolinewidth": 2
          },
          "yaxis": {
           "automargin": true,
           "gridcolor": "white",
           "linecolor": "white",
           "ticks": "",
           "title": {
            "standoff": 15
           },
           "zerolinecolor": "white",
           "zerolinewidth": 2
          }
         }
        }
       }
      }
     },
     "metadata": {},
     "output_type": "display_data"
    }
   ],
   "source": [
    "import plotly.express as px\n",
    "fig = px.line_3d(x=xxx[:,0], y=xxx[:,1],z=xxx[:,2],height=700)\n",
    "\n",
    "fig.show()"
   ]
  },
  {
   "cell_type": "code",
   "execution_count": null,
   "metadata": {},
   "outputs": [],
   "source": []
  }
 ],
 "metadata": {
  "kernelspec": {
   "display_name": "Python 3 (ipykernel)",
   "language": "python",
   "name": "python3"
  },
  "language_info": {
   "codemirror_mode": {
    "name": "ipython",
    "version": 3
   },
   "file_extension": ".py",
   "mimetype": "text/x-python",
   "name": "python",
   "nbconvert_exporter": "python",
   "pygments_lexer": "ipython3",
   "version": "3.12.1"
  }
 },
 "nbformat": 4,
 "nbformat_minor": 4
}
